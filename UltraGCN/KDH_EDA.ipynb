{
 "cells": [
  {
   "cell_type": "code",
   "execution_count": 1,
   "metadata": {},
   "outputs": [],
   "source": [
    "import pandas as pd\n",
    "import numpy as np\n",
    "import os\n",
    "import time\n",
    "import matplotlib.pyplot as plt"
   ]
  },
  {
   "cell_type": "code",
   "execution_count": 2,
   "metadata": {},
   "outputs": [],
   "source": [
    "data_path = '/opt/ml/input/data/train'\n",
    "train_df = pd.read_csv(os.path.join(data_path, 'train_ratings.csv')) # 전체 학습 데이터\n",
    "year_data = pd.read_csv(os.path.join(data_path, 'years.tsv'), sep='\\t')\n",
    "writer_data = pd.read_csv(os.path.join(data_path, 'writers.tsv'), sep='\\t')\n",
    "title_data = pd.read_csv(os.path.join(data_path, 'titles.tsv'), sep='\\t')\n",
    "genre_data = pd.read_csv(os.path.join(data_path, 'genres.tsv'), sep='\\t')\n",
    "director_data = pd.read_csv(os.path.join(data_path, 'directors.tsv'), sep='\\t')"
   ]
  },
  {
   "cell_type": "code",
   "execution_count": 3,
   "metadata": {},
   "outputs": [
    {
     "data": {
      "text/html": [
       "<div>\n",
       "<style scoped>\n",
       "    .dataframe tbody tr th:only-of-type {\n",
       "        vertical-align: middle;\n",
       "    }\n",
       "\n",
       "    .dataframe tbody tr th {\n",
       "        vertical-align: top;\n",
       "    }\n",
       "\n",
       "    .dataframe thead th {\n",
       "        text-align: right;\n",
       "    }\n",
       "</style>\n",
       "<table border=\"1\" class=\"dataframe\">\n",
       "  <thead>\n",
       "    <tr style=\"text-align: right;\">\n",
       "      <th></th>\n",
       "      <th>user</th>\n",
       "      <th>item</th>\n",
       "      <th>time</th>\n",
       "    </tr>\n",
       "  </thead>\n",
       "  <tbody>\n",
       "    <tr>\n",
       "      <th>0</th>\n",
       "      <td>11</td>\n",
       "      <td>4643</td>\n",
       "      <td>1230782529</td>\n",
       "    </tr>\n",
       "    <tr>\n",
       "      <th>1</th>\n",
       "      <td>11</td>\n",
       "      <td>170</td>\n",
       "      <td>1230782534</td>\n",
       "    </tr>\n",
       "    <tr>\n",
       "      <th>2</th>\n",
       "      <td>11</td>\n",
       "      <td>531</td>\n",
       "      <td>1230782539</td>\n",
       "    </tr>\n",
       "    <tr>\n",
       "      <th>3</th>\n",
       "      <td>11</td>\n",
       "      <td>616</td>\n",
       "      <td>1230782542</td>\n",
       "    </tr>\n",
       "    <tr>\n",
       "      <th>4</th>\n",
       "      <td>11</td>\n",
       "      <td>2140</td>\n",
       "      <td>1230782563</td>\n",
       "    </tr>\n",
       "    <tr>\n",
       "      <th>...</th>\n",
       "      <td>...</td>\n",
       "      <td>...</td>\n",
       "      <td>...</td>\n",
       "    </tr>\n",
       "    <tr>\n",
       "      <th>5154466</th>\n",
       "      <td>138493</td>\n",
       "      <td>44022</td>\n",
       "      <td>1260209449</td>\n",
       "    </tr>\n",
       "    <tr>\n",
       "      <th>5154467</th>\n",
       "      <td>138493</td>\n",
       "      <td>4958</td>\n",
       "      <td>1260209482</td>\n",
       "    </tr>\n",
       "    <tr>\n",
       "      <th>5154468</th>\n",
       "      <td>138493</td>\n",
       "      <td>68319</td>\n",
       "      <td>1260209720</td>\n",
       "    </tr>\n",
       "    <tr>\n",
       "      <th>5154469</th>\n",
       "      <td>138493</td>\n",
       "      <td>40819</td>\n",
       "      <td>1260209726</td>\n",
       "    </tr>\n",
       "    <tr>\n",
       "      <th>5154470</th>\n",
       "      <td>138493</td>\n",
       "      <td>27311</td>\n",
       "      <td>1260209807</td>\n",
       "    </tr>\n",
       "  </tbody>\n",
       "</table>\n",
       "<p>5154471 rows × 3 columns</p>\n",
       "</div>"
      ],
      "text/plain": [
       "           user   item        time\n",
       "0            11   4643  1230782529\n",
       "1            11    170  1230782534\n",
       "2            11    531  1230782539\n",
       "3            11    616  1230782542\n",
       "4            11   2140  1230782563\n",
       "...         ...    ...         ...\n",
       "5154466  138493  44022  1260209449\n",
       "5154467  138493   4958  1260209482\n",
       "5154468  138493  68319  1260209720\n",
       "5154469  138493  40819  1260209726\n",
       "5154470  138493  27311  1260209807\n",
       "\n",
       "[5154471 rows x 3 columns]"
      ]
     },
     "execution_count": 3,
     "metadata": {},
     "output_type": "execute_result"
    }
   ],
   "source": [
    "train_df"
   ]
  },
  {
   "attachments": {},
   "cell_type": "markdown",
   "metadata": {},
   "source": [
    "# 시간 형식 바꾸기."
   ]
  },
  {
   "cell_type": "code",
   "execution_count": 4,
   "metadata": {},
   "outputs": [],
   "source": [
    "train_df['time'] = train_df['time'].apply(lambda x: time.strftime('%Y-%m-%d %H:%M:%S', time.localtime(x)))"
   ]
  },
  {
   "cell_type": "code",
   "execution_count": 5,
   "metadata": {},
   "outputs": [
    {
     "data": {
      "text/html": [
       "<div>\n",
       "<style scoped>\n",
       "    .dataframe tbody tr th:only-of-type {\n",
       "        vertical-align: middle;\n",
       "    }\n",
       "\n",
       "    .dataframe tbody tr th {\n",
       "        vertical-align: top;\n",
       "    }\n",
       "\n",
       "    .dataframe thead th {\n",
       "        text-align: right;\n",
       "    }\n",
       "</style>\n",
       "<table border=\"1\" class=\"dataframe\">\n",
       "  <thead>\n",
       "    <tr style=\"text-align: right;\">\n",
       "      <th></th>\n",
       "      <th>ymd</th>\n",
       "      <th>hms</th>\n",
       "    </tr>\n",
       "  </thead>\n",
       "  <tbody>\n",
       "    <tr>\n",
       "      <th>0</th>\n",
       "      <td>2009-01-01</td>\n",
       "      <td>04:02:09</td>\n",
       "    </tr>\n",
       "    <tr>\n",
       "      <th>1</th>\n",
       "      <td>2009-01-01</td>\n",
       "      <td>04:02:14</td>\n",
       "    </tr>\n",
       "    <tr>\n",
       "      <th>2</th>\n",
       "      <td>2009-01-01</td>\n",
       "      <td>04:02:19</td>\n",
       "    </tr>\n",
       "    <tr>\n",
       "      <th>3</th>\n",
       "      <td>2009-01-01</td>\n",
       "      <td>04:02:22</td>\n",
       "    </tr>\n",
       "    <tr>\n",
       "      <th>4</th>\n",
       "      <td>2009-01-01</td>\n",
       "      <td>04:02:43</td>\n",
       "    </tr>\n",
       "    <tr>\n",
       "      <th>...</th>\n",
       "      <td>...</td>\n",
       "      <td>...</td>\n",
       "    </tr>\n",
       "    <tr>\n",
       "      <th>5154466</th>\n",
       "      <td>2009-12-07</td>\n",
       "      <td>18:10:49</td>\n",
       "    </tr>\n",
       "    <tr>\n",
       "      <th>5154467</th>\n",
       "      <td>2009-12-07</td>\n",
       "      <td>18:11:22</td>\n",
       "    </tr>\n",
       "    <tr>\n",
       "      <th>5154468</th>\n",
       "      <td>2009-12-07</td>\n",
       "      <td>18:15:20</td>\n",
       "    </tr>\n",
       "    <tr>\n",
       "      <th>5154469</th>\n",
       "      <td>2009-12-07</td>\n",
       "      <td>18:15:26</td>\n",
       "    </tr>\n",
       "    <tr>\n",
       "      <th>5154470</th>\n",
       "      <td>2009-12-07</td>\n",
       "      <td>18:16:47</td>\n",
       "    </tr>\n",
       "  </tbody>\n",
       "</table>\n",
       "<p>5154471 rows × 2 columns</p>\n",
       "</div>"
      ],
      "text/plain": [
       "                ymd       hms\n",
       "0        2009-01-01  04:02:09\n",
       "1        2009-01-01  04:02:14\n",
       "2        2009-01-01  04:02:19\n",
       "3        2009-01-01  04:02:22\n",
       "4        2009-01-01  04:02:43\n",
       "...             ...       ...\n",
       "5154466  2009-12-07  18:10:49\n",
       "5154467  2009-12-07  18:11:22\n",
       "5154468  2009-12-07  18:15:20\n",
       "5154469  2009-12-07  18:15:26\n",
       "5154470  2009-12-07  18:16:47\n",
       "\n",
       "[5154471 rows x 2 columns]"
      ]
     },
     "execution_count": 5,
     "metadata": {},
     "output_type": "execute_result"
    }
   ],
   "source": [
    "sub_df = train_df['time'].str.split(expand=True)\n",
    "sub_df.columns = ['ymd', 'hms']\n",
    "sub_df"
   ]
  },
  {
   "cell_type": "code",
   "execution_count": 6,
   "metadata": {},
   "outputs": [
    {
     "data": {
      "text/html": [
       "<div>\n",
       "<style scoped>\n",
       "    .dataframe tbody tr th:only-of-type {\n",
       "        vertical-align: middle;\n",
       "    }\n",
       "\n",
       "    .dataframe tbody tr th {\n",
       "        vertical-align: top;\n",
       "    }\n",
       "\n",
       "    .dataframe thead th {\n",
       "        text-align: right;\n",
       "    }\n",
       "</style>\n",
       "<table border=\"1\" class=\"dataframe\">\n",
       "  <thead>\n",
       "    <tr style=\"text-align: right;\">\n",
       "      <th></th>\n",
       "      <th>user</th>\n",
       "      <th>item</th>\n",
       "      <th>time</th>\n",
       "    </tr>\n",
       "  </thead>\n",
       "  <tbody>\n",
       "    <tr>\n",
       "      <th>0</th>\n",
       "      <td>11</td>\n",
       "      <td>4643</td>\n",
       "      <td>2009-01-01 04:02:09</td>\n",
       "    </tr>\n",
       "    <tr>\n",
       "      <th>1</th>\n",
       "      <td>11</td>\n",
       "      <td>170</td>\n",
       "      <td>2009-01-01 04:02:14</td>\n",
       "    </tr>\n",
       "    <tr>\n",
       "      <th>2</th>\n",
       "      <td>11</td>\n",
       "      <td>531</td>\n",
       "      <td>2009-01-01 04:02:19</td>\n",
       "    </tr>\n",
       "    <tr>\n",
       "      <th>3</th>\n",
       "      <td>11</td>\n",
       "      <td>616</td>\n",
       "      <td>2009-01-01 04:02:22</td>\n",
       "    </tr>\n",
       "    <tr>\n",
       "      <th>4</th>\n",
       "      <td>11</td>\n",
       "      <td>2140</td>\n",
       "      <td>2009-01-01 04:02:43</td>\n",
       "    </tr>\n",
       "    <tr>\n",
       "      <th>...</th>\n",
       "      <td>...</td>\n",
       "      <td>...</td>\n",
       "      <td>...</td>\n",
       "    </tr>\n",
       "    <tr>\n",
       "      <th>5154466</th>\n",
       "      <td>138493</td>\n",
       "      <td>44022</td>\n",
       "      <td>2009-12-07 18:10:49</td>\n",
       "    </tr>\n",
       "    <tr>\n",
       "      <th>5154467</th>\n",
       "      <td>138493</td>\n",
       "      <td>4958</td>\n",
       "      <td>2009-12-07 18:11:22</td>\n",
       "    </tr>\n",
       "    <tr>\n",
       "      <th>5154468</th>\n",
       "      <td>138493</td>\n",
       "      <td>68319</td>\n",
       "      <td>2009-12-07 18:15:20</td>\n",
       "    </tr>\n",
       "    <tr>\n",
       "      <th>5154469</th>\n",
       "      <td>138493</td>\n",
       "      <td>40819</td>\n",
       "      <td>2009-12-07 18:15:26</td>\n",
       "    </tr>\n",
       "    <tr>\n",
       "      <th>5154470</th>\n",
       "      <td>138493</td>\n",
       "      <td>27311</td>\n",
       "      <td>2009-12-07 18:16:47</td>\n",
       "    </tr>\n",
       "  </tbody>\n",
       "</table>\n",
       "<p>5154471 rows × 3 columns</p>\n",
       "</div>"
      ],
      "text/plain": [
       "           user   item                 time\n",
       "0            11   4643  2009-01-01 04:02:09\n",
       "1            11    170  2009-01-01 04:02:14\n",
       "2            11    531  2009-01-01 04:02:19\n",
       "3            11    616  2009-01-01 04:02:22\n",
       "4            11   2140  2009-01-01 04:02:43\n",
       "...         ...    ...                  ...\n",
       "5154466  138493  44022  2009-12-07 18:10:49\n",
       "5154467  138493   4958  2009-12-07 18:11:22\n",
       "5154468  138493  68319  2009-12-07 18:15:20\n",
       "5154469  138493  40819  2009-12-07 18:15:26\n",
       "5154470  138493  27311  2009-12-07 18:16:47\n",
       "\n",
       "[5154471 rows x 3 columns]"
      ]
     },
     "execution_count": 6,
     "metadata": {},
     "output_type": "execute_result"
    }
   ],
   "source": [
    "train_df"
   ]
  },
  {
   "cell_type": "code",
   "execution_count": 7,
   "metadata": {},
   "outputs": [
    {
     "data": {
      "text/html": [
       "<div>\n",
       "<style scoped>\n",
       "    .dataframe tbody tr th:only-of-type {\n",
       "        vertical-align: middle;\n",
       "    }\n",
       "\n",
       "    .dataframe tbody tr th {\n",
       "        vertical-align: top;\n",
       "    }\n",
       "\n",
       "    .dataframe thead th {\n",
       "        text-align: right;\n",
       "    }\n",
       "</style>\n",
       "<table border=\"1\" class=\"dataframe\">\n",
       "  <thead>\n",
       "    <tr style=\"text-align: right;\">\n",
       "      <th></th>\n",
       "      <th>user</th>\n",
       "      <th>item</th>\n",
       "      <th>year</th>\n",
       "      <th>month</th>\n",
       "      <th>day</th>\n",
       "      <th>hour</th>\n",
       "      <th>minute</th>\n",
       "      <th>second</th>\n",
       "    </tr>\n",
       "  </thead>\n",
       "  <tbody>\n",
       "    <tr>\n",
       "      <th>0</th>\n",
       "      <td>11</td>\n",
       "      <td>4643</td>\n",
       "      <td>2009</td>\n",
       "      <td>01</td>\n",
       "      <td>01</td>\n",
       "      <td>04</td>\n",
       "      <td>02</td>\n",
       "      <td>09</td>\n",
       "    </tr>\n",
       "    <tr>\n",
       "      <th>1</th>\n",
       "      <td>11</td>\n",
       "      <td>170</td>\n",
       "      <td>2009</td>\n",
       "      <td>01</td>\n",
       "      <td>01</td>\n",
       "      <td>04</td>\n",
       "      <td>02</td>\n",
       "      <td>14</td>\n",
       "    </tr>\n",
       "    <tr>\n",
       "      <th>2</th>\n",
       "      <td>11</td>\n",
       "      <td>531</td>\n",
       "      <td>2009</td>\n",
       "      <td>01</td>\n",
       "      <td>01</td>\n",
       "      <td>04</td>\n",
       "      <td>02</td>\n",
       "      <td>19</td>\n",
       "    </tr>\n",
       "    <tr>\n",
       "      <th>3</th>\n",
       "      <td>11</td>\n",
       "      <td>616</td>\n",
       "      <td>2009</td>\n",
       "      <td>01</td>\n",
       "      <td>01</td>\n",
       "      <td>04</td>\n",
       "      <td>02</td>\n",
       "      <td>22</td>\n",
       "    </tr>\n",
       "    <tr>\n",
       "      <th>4</th>\n",
       "      <td>11</td>\n",
       "      <td>2140</td>\n",
       "      <td>2009</td>\n",
       "      <td>01</td>\n",
       "      <td>01</td>\n",
       "      <td>04</td>\n",
       "      <td>02</td>\n",
       "      <td>43</td>\n",
       "    </tr>\n",
       "    <tr>\n",
       "      <th>...</th>\n",
       "      <td>...</td>\n",
       "      <td>...</td>\n",
       "      <td>...</td>\n",
       "      <td>...</td>\n",
       "      <td>...</td>\n",
       "      <td>...</td>\n",
       "      <td>...</td>\n",
       "      <td>...</td>\n",
       "    </tr>\n",
       "    <tr>\n",
       "      <th>5154466</th>\n",
       "      <td>138493</td>\n",
       "      <td>44022</td>\n",
       "      <td>2009</td>\n",
       "      <td>12</td>\n",
       "      <td>07</td>\n",
       "      <td>18</td>\n",
       "      <td>10</td>\n",
       "      <td>49</td>\n",
       "    </tr>\n",
       "    <tr>\n",
       "      <th>5154467</th>\n",
       "      <td>138493</td>\n",
       "      <td>4958</td>\n",
       "      <td>2009</td>\n",
       "      <td>12</td>\n",
       "      <td>07</td>\n",
       "      <td>18</td>\n",
       "      <td>11</td>\n",
       "      <td>22</td>\n",
       "    </tr>\n",
       "    <tr>\n",
       "      <th>5154468</th>\n",
       "      <td>138493</td>\n",
       "      <td>68319</td>\n",
       "      <td>2009</td>\n",
       "      <td>12</td>\n",
       "      <td>07</td>\n",
       "      <td>18</td>\n",
       "      <td>15</td>\n",
       "      <td>20</td>\n",
       "    </tr>\n",
       "    <tr>\n",
       "      <th>5154469</th>\n",
       "      <td>138493</td>\n",
       "      <td>40819</td>\n",
       "      <td>2009</td>\n",
       "      <td>12</td>\n",
       "      <td>07</td>\n",
       "      <td>18</td>\n",
       "      <td>15</td>\n",
       "      <td>26</td>\n",
       "    </tr>\n",
       "    <tr>\n",
       "      <th>5154470</th>\n",
       "      <td>138493</td>\n",
       "      <td>27311</td>\n",
       "      <td>2009</td>\n",
       "      <td>12</td>\n",
       "      <td>07</td>\n",
       "      <td>18</td>\n",
       "      <td>16</td>\n",
       "      <td>47</td>\n",
       "    </tr>\n",
       "  </tbody>\n",
       "</table>\n",
       "<p>5154471 rows × 8 columns</p>\n",
       "</div>"
      ],
      "text/plain": [
       "           user   item  year month day hour minute second\n",
       "0            11   4643  2009    01  01   04     02     09\n",
       "1            11    170  2009    01  01   04     02     14\n",
       "2            11    531  2009    01  01   04     02     19\n",
       "3            11    616  2009    01  01   04     02     22\n",
       "4            11   2140  2009    01  01   04     02     43\n",
       "...         ...    ...   ...   ...  ..  ...    ...    ...\n",
       "5154466  138493  44022  2009    12  07   18     10     49\n",
       "5154467  138493   4958  2009    12  07   18     11     22\n",
       "5154468  138493  68319  2009    12  07   18     15     20\n",
       "5154469  138493  40819  2009    12  07   18     15     26\n",
       "5154470  138493  27311  2009    12  07   18     16     47\n",
       "\n",
       "[5154471 rows x 8 columns]"
      ]
     },
     "execution_count": 7,
     "metadata": {},
     "output_type": "execute_result"
    }
   ],
   "source": [
    "ymd_df = sub_df['ymd'].str.split('-', expand=True)\n",
    "ymd_df.columns = ['year', 'month', 'day']\n",
    "hms_df = sub_df['hms'].str.split(':', expand=True)\n",
    "hms_df.columns = ['hour', 'minute', 'second']\n",
    "train_df = pd.concat([train_df, ymd_df], axis=1)\n",
    "train_df = pd.concat([train_df, hms_df], axis=1)\n",
    "train_df.drop(['time'], axis=1, inplace=True)\n",
    "train_df"
   ]
  },
  {
   "cell_type": "code",
   "execution_count": 8,
   "metadata": {},
   "outputs": [
    {
     "data": {
      "text/plain": [
       "31360"
      ]
     },
     "execution_count": 8,
     "metadata": {},
     "output_type": "execute_result"
    }
   ],
   "source": [
    "# 1. user의 고유 수 확인\n",
    "train_df['user'].nunique()"
   ]
  },
  {
   "cell_type": "code",
   "execution_count": 9,
   "metadata": {},
   "outputs": [
    {
     "data": {
      "text/plain": [
       "user\n",
       "8405      2912\n",
       "54465     1980\n",
       "24219     1842\n",
       "32514     1830\n",
       "91349     1795\n",
       "          ... \n",
       "11211       32\n",
       "128756      28\n",
       "105578      22\n",
       "68606       19\n",
       "53188       16\n",
       "Name: item, Length: 31360, dtype: int64"
      ]
     },
     "execution_count": 9,
     "metadata": {},
     "output_type": "execute_result"
    }
   ],
   "source": [
    "user_grouped = train_df.groupby(train_df['user'])['item'].count().sort_values(ascending=False)\n",
    "user_grouped"
   ]
  },
  {
   "cell_type": "code",
   "execution_count": 10,
   "metadata": {},
   "outputs": [
    {
     "data": {
      "image/png": "[encoded data removed]",
      "text/plain": [
       "<Figure size 720x576 with 1 Axes>"
      ]
     },
     "metadata": {
      "needs_background": "light"
     },
     "output_type": "display_data"
    }
   ],
   "source": [
    "#영화를 적게 본 사람이 몰려 있음\n",
    "user_grouped = train_df.groupby(train_df['user'])['item'].count().hist(figsize=(10,8), bins=100)"
   ]
  },
  {
   "cell_type": "code",
   "execution_count": 11,
   "metadata": {},
   "outputs": [
    {
     "data": {
      "text/plain": [
       "<Axes: >"
      ]
     },
     "execution_count": 11,
     "metadata": {},
     "output_type": "execute_result"
    },
    {
     "data": {
      "image/png": "[encoded data removed]",
      "text/plain": [
       "<Figure size 720x576 with 1 Axes>"
      ]
     },
     "metadata": {
      "needs_background": "light"
     },
     "output_type": "display_data"
    }
   ],
   "source": [
    "#상위 100명의 정보\n",
    "user_grouped_100 = train_df.groupby(train_df['user'])['item'].count().sort_values(ascending=False)[:100].hist(figsize=(10,8), bins=100)\n",
    "user_grouped_100"
   ]
  },
  {
   "attachments": {},
   "cell_type": "markdown",
   "metadata": {},
   "source": [
    "# 유저가 대부분 어느 시간대에 봤는지 확인"
   ]
  },
  {
   "cell_type": "code",
   "execution_count": 12,
   "metadata": {},
   "outputs": [
    {
     "data": {
      "text/plain": [
       "year\n",
       "2005    572894\n",
       "2006    647240\n",
       "2007    589945\n",
       "2008    679269\n",
       "2009    517366\n",
       "2010    510385\n",
       "2011    427103\n",
       "2012    421942\n",
       "2013    338109\n",
       "2014    308281\n",
       "2015    141937\n",
       "Name: user, dtype: int64"
      ]
     },
     "execution_count": 12,
     "metadata": {},
     "output_type": "execute_result"
    }
   ],
   "source": [
    "# 2005~2015년도에 본 영화 정보임.\n",
    "# 비교적 오래된 영화가 많음.\n",
    "train_df.groupby('year')['user'].count()"
   ]
  },
  {
   "cell_type": "code",
   "execution_count": 13,
   "metadata": {},
   "outputs": [
    {
     "data": {
      "image/png": "[encoded data removed]",
      "text/plain": [
       "<Figure size 432x288 with 1 Axes>"
      ]
     },
     "metadata": {
      "needs_background": "light"
     },
     "output_type": "display_data"
    }
   ],
   "source": [
    "#오래된 작품이 조금 더 많음\n",
    "a=train_df.groupby('year')['user'].count().index.astype(int)\n",
    "b=train_df.groupby('year')['user'].count().values\n",
    "\n",
    "plt.bar(a,b)\n",
    "plt.show()"
   ]
  },
  {
   "cell_type": "code",
   "execution_count": 14,
   "metadata": {},
   "outputs": [
    {
     "data": {
      "text/plain": [
       "hour\n",
       "00    260333\n",
       "01    247278\n",
       "02    248449\n",
       "03    245660\n",
       "04    194326\n",
       "05    181742\n",
       "06    163859\n",
       "07    142462\n",
       "08    136983\n",
       "09    129500\n",
       "10    128354\n",
       "11    132765\n",
       "12    149108\n",
       "13    163815\n",
       "14    184949\n",
       "15    208895\n",
       "16    225104\n",
       "17    247125\n",
       "18    272171\n",
       "19    300987\n",
       "20    311435\n",
       "21    314571\n",
       "22    292308\n",
       "23    272292\n",
       "Name: user, dtype: int64"
      ]
     },
     "execution_count": 14,
     "metadata": {},
     "output_type": "execute_result"
    }
   ],
   "source": [
    "train_df.groupby('hour')['user'].count()"
   ]
  },
  {
   "cell_type": "code",
   "execution_count": 15,
   "metadata": {},
   "outputs": [
    {
     "data": {
      "image/png": "[encoded data removed]",
      "text/plain": [
       "<Figure size 432x288 with 1 Axes>"
      ]
     },
     "metadata": {
      "needs_background": "light"
     },
     "output_type": "display_data"
    }
   ],
   "source": [
    "# 보통 저녁, 새벽 시간대에 많이 시청하는 것을 알 수 있음\n",
    "a=train_df.groupby('hour')['user'].count().index.astype(int)\n",
    "b=train_df.groupby('hour')['user'].count().values\n",
    "\n",
    "plt.bar(a,b)\n",
    "plt.show()"
   ]
  },
  {
   "cell_type": "code",
   "execution_count": 16,
   "metadata": {},
   "outputs": [
    {
     "name": "stdout",
     "output_type": "stream",
     "text": [
      "6807\n",
      "6799\n",
      "5648\n",
      "6807\n",
      "6807\n",
      "5503\n"
     ]
    }
   ],
   "source": [
    "#item 중복 개수를 통해 year, writer, director데이터에 결측치가 있을 것.\n",
    "print(train_df['item'].nunique())\n",
    "print(year_data['item'].nunique())\n",
    "print(writer_data['item'].nunique())\n",
    "print(title_data['item'].nunique())\n",
    "print(genre_data['item'].nunique())\n",
    "print(director_data['item'].nunique())"
   ]
  },
  {
   "attachments": {},
   "cell_type": "markdown",
   "metadata": {},
   "source": [
    "# Year 데이터 확인"
   ]
  },
  {
   "cell_type": "code",
   "execution_count": 17,
   "metadata": {},
   "outputs": [
    {
     "data": {
      "text/html": [
       "<div>\n",
       "<style scoped>\n",
       "    .dataframe tbody tr th:only-of-type {\n",
       "        vertical-align: middle;\n",
       "    }\n",
       "\n",
       "    .dataframe tbody tr th {\n",
       "        vertical-align: top;\n",
       "    }\n",
       "\n",
       "    .dataframe thead th {\n",
       "        text-align: right;\n",
       "    }\n",
       "</style>\n",
       "<table border=\"1\" class=\"dataframe\">\n",
       "  <thead>\n",
       "    <tr style=\"text-align: right;\">\n",
       "      <th></th>\n",
       "      <th>item</th>\n",
       "      <th>year</th>\n",
       "    </tr>\n",
       "  </thead>\n",
       "  <tbody>\n",
       "    <tr>\n",
       "      <th>0</th>\n",
       "      <td>1348</td>\n",
       "      <td>1922</td>\n",
       "    </tr>\n",
       "    <tr>\n",
       "      <th>1</th>\n",
       "      <td>44587</td>\n",
       "      <td>1922</td>\n",
       "    </tr>\n",
       "    <tr>\n",
       "      <th>2</th>\n",
       "      <td>4768</td>\n",
       "      <td>1922</td>\n",
       "    </tr>\n",
       "    <tr>\n",
       "      <th>3</th>\n",
       "      <td>8235</td>\n",
       "      <td>1923</td>\n",
       "    </tr>\n",
       "    <tr>\n",
       "      <th>4</th>\n",
       "      <td>8609</td>\n",
       "      <td>1923</td>\n",
       "    </tr>\n",
       "    <tr>\n",
       "      <th>...</th>\n",
       "      <td>...</td>\n",
       "      <td>...</td>\n",
       "    </tr>\n",
       "    <tr>\n",
       "      <th>6794</th>\n",
       "      <td>114795</td>\n",
       "      <td>2014</td>\n",
       "    </tr>\n",
       "    <tr>\n",
       "      <th>6795</th>\n",
       "      <td>110771</td>\n",
       "      <td>2014</td>\n",
       "    </tr>\n",
       "    <tr>\n",
       "      <th>6796</th>\n",
       "      <td>112804</td>\n",
       "      <td>2014</td>\n",
       "    </tr>\n",
       "    <tr>\n",
       "      <th>6797</th>\n",
       "      <td>113378</td>\n",
       "      <td>2014</td>\n",
       "    </tr>\n",
       "    <tr>\n",
       "      <th>6798</th>\n",
       "      <td>109850</td>\n",
       "      <td>2014</td>\n",
       "    </tr>\n",
       "  </tbody>\n",
       "</table>\n",
       "<p>6799 rows × 2 columns</p>\n",
       "</div>"
      ],
      "text/plain": [
       "        item  year\n",
       "0       1348  1922\n",
       "1      44587  1922\n",
       "2       4768  1922\n",
       "3       8235  1923\n",
       "4       8609  1923\n",
       "...      ...   ...\n",
       "6794  114795  2014\n",
       "6795  110771  2014\n",
       "6796  112804  2014\n",
       "6797  113378  2014\n",
       "6798  109850  2014\n",
       "\n",
       "[6799 rows x 2 columns]"
      ]
     },
     "execution_count": 17,
     "metadata": {},
     "output_type": "execute_result"
    }
   ],
   "source": [
    "year_data"
   ]
  },
  {
   "cell_type": "code",
   "execution_count": 44,
   "metadata": {},
   "outputs": [
    {
     "data": {
      "text/plain": [
       "user      0\n",
       "item      0\n",
       "year      0\n",
       "month     0\n",
       "day       0\n",
       "hour      0\n",
       "minute    0\n",
       "second    0\n",
       "dtype: int64"
      ]
     },
     "execution_count": 44,
     "metadata": {},
     "output_type": "execute_result"
    }
   ],
   "source": [
    "train_df.isna().sum()"
   ]
  },
  {
   "cell_type": "code",
   "execution_count": 18,
   "metadata": {},
   "outputs": [
    {
     "data": {
      "text/plain": [
       "1922      3\n",
       "1923      2\n",
       "1924      5\n",
       "1925      6\n",
       "1926      2\n",
       "       ... \n",
       "2010    213\n",
       "2011    185\n",
       "2012    140\n",
       "2013    134\n",
       "2014     76\n",
       "Name: year, Length: 93, dtype: int64"
      ]
     },
     "execution_count": 18,
     "metadata": {},
     "output_type": "execute_result"
    }
   ],
   "source": [
    "year_data['year'].value_counts().sort_index()"
   ]
  },
  {
   "cell_type": "code",
   "execution_count": 19,
   "metadata": {},
   "outputs": [
    {
     "data": {
      "image/png": "[encoded data removed]",
      "text/plain": [
       "<Figure size 432x288 with 1 Axes>"
      ]
     },
     "metadata": {
      "needs_background": "light"
     },
     "output_type": "display_data"
    }
   ],
   "source": [
    "#후반부 작품이 주를 이룸.\n",
    "a=year_data.groupby('year')['item'].count().index.astype(int)\n",
    "b=year_data.groupby('year')['item'].count().values\n",
    "\n",
    "plt.bar(a,b)\n",
    "plt.show()\n"
   ]
  },
  {
   "attachments": {},
   "cell_type": "markdown",
   "metadata": {},
   "source": [
    "# Writer 데이터 확인."
   ]
  },
  {
   "cell_type": "code",
   "execution_count": 20,
   "metadata": {},
   "outputs": [
    {
     "data": {
      "text/html": [
       "<div>\n",
       "<style scoped>\n",
       "    .dataframe tbody tr th:only-of-type {\n",
       "        vertical-align: middle;\n",
       "    }\n",
       "\n",
       "    .dataframe tbody tr th {\n",
       "        vertical-align: top;\n",
       "    }\n",
       "\n",
       "    .dataframe thead th {\n",
       "        text-align: right;\n",
       "    }\n",
       "</style>\n",
       "<table border=\"1\" class=\"dataframe\">\n",
       "  <thead>\n",
       "    <tr style=\"text-align: right;\">\n",
       "      <th></th>\n",
       "      <th>item</th>\n",
       "      <th>writer</th>\n",
       "    </tr>\n",
       "  </thead>\n",
       "  <tbody>\n",
       "    <tr>\n",
       "      <th>0</th>\n",
       "      <td>1237</td>\n",
       "      <td>nm0000005</td>\n",
       "    </tr>\n",
       "    <tr>\n",
       "      <th>1</th>\n",
       "      <td>5147</td>\n",
       "      <td>nm0000005</td>\n",
       "    </tr>\n",
       "    <tr>\n",
       "      <th>2</th>\n",
       "      <td>7327</td>\n",
       "      <td>nm0000005</td>\n",
       "    </tr>\n",
       "    <tr>\n",
       "      <th>3</th>\n",
       "      <td>2068</td>\n",
       "      <td>nm0000005</td>\n",
       "    </tr>\n",
       "    <tr>\n",
       "      <th>4</th>\n",
       "      <td>7396</td>\n",
       "      <td>nm0000005</td>\n",
       "    </tr>\n",
       "    <tr>\n",
       "      <th>...</th>\n",
       "      <td>...</td>\n",
       "      <td>...</td>\n",
       "    </tr>\n",
       "    <tr>\n",
       "      <th>11301</th>\n",
       "      <td>27397</td>\n",
       "      <td>nm5371819</td>\n",
       "    </tr>\n",
       "    <tr>\n",
       "      <th>11302</th>\n",
       "      <td>2987</td>\n",
       "      <td>nm5927607</td>\n",
       "    </tr>\n",
       "    <tr>\n",
       "      <th>11303</th>\n",
       "      <td>33463</td>\n",
       "      <td>nm5927607</td>\n",
       "    </tr>\n",
       "    <tr>\n",
       "      <th>11304</th>\n",
       "      <td>2987</td>\n",
       "      <td>nm5927608</td>\n",
       "    </tr>\n",
       "    <tr>\n",
       "      <th>11305</th>\n",
       "      <td>33463</td>\n",
       "      <td>nm5927608</td>\n",
       "    </tr>\n",
       "  </tbody>\n",
       "</table>\n",
       "<p>11306 rows × 2 columns</p>\n",
       "</div>"
      ],
      "text/plain": [
       "        item     writer\n",
       "0       1237  nm0000005\n",
       "1       5147  nm0000005\n",
       "2       7327  nm0000005\n",
       "3       2068  nm0000005\n",
       "4       7396  nm0000005\n",
       "...      ...        ...\n",
       "11301  27397  nm5371819\n",
       "11302   2987  nm5927607\n",
       "11303  33463  nm5927607\n",
       "11304   2987  nm5927608\n",
       "11305  33463  nm5927608\n",
       "\n",
       "[11306 rows x 2 columns]"
      ]
     },
     "execution_count": 20,
     "metadata": {},
     "output_type": "execute_result"
    }
   ],
   "source": [
    "writer_data"
   ]
  },
  {
   "cell_type": "code",
   "execution_count": 21,
   "metadata": {},
   "outputs": [
    {
     "data": {
      "text/plain": [
       "item      5648\n",
       "writer    2989\n",
       "dtype: int64"
      ]
     },
     "execution_count": 21,
     "metadata": {},
     "output_type": "execute_result"
    }
   ],
   "source": [
    "#작가 고유 수 확인\n",
    "writer_data.nunique()"
   ]
  },
  {
   "cell_type": "code",
   "execution_count": 22,
   "metadata": {},
   "outputs": [
    {
     "data": {
      "text/plain": [
       "writer\n",
       "nm0000005    18\n",
       "nm0000019    10\n",
       "nm0000033     5\n",
       "nm0000036     2\n",
       "nm0000040    11\n",
       "             ..\n",
       "nm5022110     5\n",
       "nm5335213     2\n",
       "nm5371819     3\n",
       "nm5927607     2\n",
       "nm5927608     2\n",
       "Name: item, Length: 2989, dtype: int64"
      ]
     },
     "execution_count": 22,
     "metadata": {},
     "output_type": "execute_result"
    }
   ],
   "source": [
    "writer_data.groupby('writer')['item'].count()"
   ]
  },
  {
   "cell_type": "code",
   "execution_count": 23,
   "metadata": {},
   "outputs": [
    {
     "data": {
      "text/plain": [
       "count    2989.000000\n",
       "mean        3.782536\n",
       "std         2.993783\n",
       "min         2.000000\n",
       "25%         2.000000\n",
       "50%         3.000000\n",
       "75%         4.000000\n",
       "max        47.000000\n",
       "Name: item, dtype: float64"
      ]
     },
     "execution_count": 23,
     "metadata": {},
     "output_type": "execute_result"
    }
   ],
   "source": [
    "writer_data.groupby('writer')['item'].count().describe()"
   ]
  },
  {
   "cell_type": "code",
   "execution_count": 24,
   "metadata": {},
   "outputs": [
    {
     "data": {
      "image/png": "[encoded data removed]",
      "text/plain": [
       "<Figure size 432x288 with 1 Axes>"
      ]
     },
     "metadata": {
      "needs_background": "light"
     },
     "output_type": "display_data"
    }
   ],
   "source": [
    "#한 작가가 각본한 영화의 개수가 얼추 비슷.\n",
    "a=writer_data.groupby('writer')['item'].count().index\n",
    "b=writer_data.groupby('writer')['item'].count().values\n",
    "\n",
    "plt.bar(a,b)\n",
    "plt.show()"
   ]
  },
  {
   "attachments": {},
   "cell_type": "markdown",
   "metadata": {},
   "source": [
    "# title 데이터 확인"
   ]
  },
  {
   "cell_type": "code",
   "execution_count": 25,
   "metadata": {},
   "outputs": [
    {
     "data": {
      "text/html": [
       "<div>\n",
       "<style scoped>\n",
       "    .dataframe tbody tr th:only-of-type {\n",
       "        vertical-align: middle;\n",
       "    }\n",
       "\n",
       "    .dataframe tbody tr th {\n",
       "        vertical-align: top;\n",
       "    }\n",
       "\n",
       "    .dataframe thead th {\n",
       "        text-align: right;\n",
       "    }\n",
       "</style>\n",
       "<table border=\"1\" class=\"dataframe\">\n",
       "  <thead>\n",
       "    <tr style=\"text-align: right;\">\n",
       "      <th></th>\n",
       "      <th>item</th>\n",
       "      <th>title</th>\n",
       "    </tr>\n",
       "  </thead>\n",
       "  <tbody>\n",
       "    <tr>\n",
       "      <th>0</th>\n",
       "      <td>318</td>\n",
       "      <td>Shawshank Redemption, The (1994)</td>\n",
       "    </tr>\n",
       "    <tr>\n",
       "      <th>1</th>\n",
       "      <td>2571</td>\n",
       "      <td>Matrix, The (1999)</td>\n",
       "    </tr>\n",
       "    <tr>\n",
       "      <th>2</th>\n",
       "      <td>2959</td>\n",
       "      <td>Fight Club (1999)</td>\n",
       "    </tr>\n",
       "    <tr>\n",
       "      <th>3</th>\n",
       "      <td>296</td>\n",
       "      <td>Pulp Fiction (1994)</td>\n",
       "    </tr>\n",
       "    <tr>\n",
       "      <th>4</th>\n",
       "      <td>356</td>\n",
       "      <td>Forrest Gump (1994)</td>\n",
       "    </tr>\n",
       "    <tr>\n",
       "      <th>...</th>\n",
       "      <td>...</td>\n",
       "      <td>...</td>\n",
       "    </tr>\n",
       "    <tr>\n",
       "      <th>6802</th>\n",
       "      <td>73106</td>\n",
       "      <td>American Pie Presents: The Book of Love (Ameri...</td>\n",
       "    </tr>\n",
       "    <tr>\n",
       "      <th>6803</th>\n",
       "      <td>109850</td>\n",
       "      <td>Need for Speed (2014)</td>\n",
       "    </tr>\n",
       "    <tr>\n",
       "      <th>6804</th>\n",
       "      <td>8605</td>\n",
       "      <td>Taxi 3 (2003)</td>\n",
       "    </tr>\n",
       "    <tr>\n",
       "      <th>6805</th>\n",
       "      <td>3689</td>\n",
       "      <td>Porky's II: The Next Day (1983)</td>\n",
       "    </tr>\n",
       "    <tr>\n",
       "      <th>6806</th>\n",
       "      <td>8130</td>\n",
       "      <td>Girl Next Door, The (1999)</td>\n",
       "    </tr>\n",
       "  </tbody>\n",
       "</table>\n",
       "<p>6807 rows × 2 columns</p>\n",
       "</div>"
      ],
      "text/plain": [
       "        item                                              title\n",
       "0        318                   Shawshank Redemption, The (1994)\n",
       "1       2571                                 Matrix, The (1999)\n",
       "2       2959                                  Fight Club (1999)\n",
       "3        296                                Pulp Fiction (1994)\n",
       "4        356                                Forrest Gump (1994)\n",
       "...      ...                                                ...\n",
       "6802   73106  American Pie Presents: The Book of Love (Ameri...\n",
       "6803  109850                              Need for Speed (2014)\n",
       "6804    8605                                      Taxi 3 (2003)\n",
       "6805    3689                    Porky's II: The Next Day (1983)\n",
       "6806    8130                         Girl Next Door, The (1999)\n",
       "\n",
       "[6807 rows x 2 columns]"
      ]
     },
     "execution_count": 25,
     "metadata": {},
     "output_type": "execute_result"
    }
   ],
   "source": [
    "title_data"
   ]
  },
  {
   "cell_type": "code",
   "execution_count": 26,
   "metadata": {},
   "outputs": [
    {
     "data": {
      "text/plain": [
       "item     6807\n",
       "title    6806\n",
       "dtype: int64"
      ]
     },
     "execution_count": 26,
     "metadata": {},
     "output_type": "execute_result"
    }
   ],
   "source": [
    "#중복 개수가 다름 -> 아이템 번호가 다른데 같은 title인 이상치가 하나 존재.\n",
    "title_data.nunique()"
   ]
  },
  {
   "cell_type": "code",
   "execution_count": 27,
   "metadata": {},
   "outputs": [
    {
     "data": {
      "text/plain": [
       "title\n",
       "\"Great Performances\" Cats (1998)                 1\n",
       "'Round Midnight (1986)                           1\n",
       "'Salem's Lot (2004)                              1\n",
       "'burbs, The (1989)                               1\n",
       "(500) Days of Summer (2009)                      1\n",
       "                                                ..\n",
       "loudQUIETloud: A Film About the Pixies (2006)    1\n",
       "xXx (2002)                                       1\n",
       "xXx: State of the Union (2005)                   1\n",
       "¡Three Amigos! (1986)                            1\n",
       "À nous la liberté (Freedom for Us) (1931)        1\n",
       "Name: item, Length: 6806, dtype: int64"
      ]
     },
     "execution_count": 27,
     "metadata": {},
     "output_type": "execute_result"
    }
   ],
   "source": [
    "title_data.groupby('title')['item'].count()"
   ]
  },
  {
   "cell_type": "code",
   "execution_count": 28,
   "metadata": {},
   "outputs": [
    {
     "data": {
      "text/html": [
       "<div>\n",
       "<style scoped>\n",
       "    .dataframe tbody tr th:only-of-type {\n",
       "        vertical-align: middle;\n",
       "    }\n",
       "\n",
       "    .dataframe tbody tr th {\n",
       "        vertical-align: top;\n",
       "    }\n",
       "\n",
       "    .dataframe thead th {\n",
       "        text-align: right;\n",
       "    }\n",
       "</style>\n",
       "<table border=\"1\" class=\"dataframe\">\n",
       "  <thead>\n",
       "    <tr style=\"text-align: right;\">\n",
       "      <th></th>\n",
       "      <th>title</th>\n",
       "      <th>item</th>\n",
       "    </tr>\n",
       "  </thead>\n",
       "  <tbody>\n",
       "    <tr>\n",
       "      <th>6496</th>\n",
       "      <td>War of the Worlds (2005)</td>\n",
       "      <td>2</td>\n",
       "    </tr>\n",
       "  </tbody>\n",
       "</table>\n",
       "</div>"
      ],
      "text/plain": [
       "                         title  item\n",
       "6496  War of the Worlds (2005)     2"
      ]
     },
     "execution_count": 28,
     "metadata": {},
     "output_type": "execute_result"
    }
   ],
   "source": [
    "temp = title_data.groupby('title')['item'].count().reset_index()\n",
    "temp[temp['item']==2]"
   ]
  },
  {
   "cell_type": "code",
   "execution_count": 29,
   "metadata": {},
   "outputs": [
    {
     "data": {
      "text/html": [
       "<div>\n",
       "<style scoped>\n",
       "    .dataframe tbody tr th:only-of-type {\n",
       "        vertical-align: middle;\n",
       "    }\n",
       "\n",
       "    .dataframe tbody tr th {\n",
       "        vertical-align: top;\n",
       "    }\n",
       "\n",
       "    .dataframe thead th {\n",
       "        text-align: right;\n",
       "    }\n",
       "</style>\n",
       "<table border=\"1\" class=\"dataframe\">\n",
       "  <thead>\n",
       "    <tr style=\"text-align: right;\">\n",
       "      <th></th>\n",
       "      <th>item</th>\n",
       "      <th>title</th>\n",
       "    </tr>\n",
       "  </thead>\n",
       "  <tbody>\n",
       "    <tr>\n",
       "      <th>349</th>\n",
       "      <td>34048</td>\n",
       "      <td>War of the Worlds (2005)</td>\n",
       "    </tr>\n",
       "    <tr>\n",
       "      <th>1926</th>\n",
       "      <td>64997</td>\n",
       "      <td>War of the Worlds (2005)</td>\n",
       "    </tr>\n",
       "  </tbody>\n",
       "</table>\n",
       "</div>"
      ],
      "text/plain": [
       "       item                     title\n",
       "349   34048  War of the Worlds (2005)\n",
       "1926  64997  War of the Worlds (2005)"
      ]
     },
     "execution_count": 29,
     "metadata": {},
     "output_type": "execute_result"
    }
   ],
   "source": [
    "#같은 이름에 다른 item 번호인 이상치가 존재. -> 처리 요망.\n",
    "title_data[title_data['title']=='War of the Worlds (2005)']"
   ]
  },
  {
   "attachments": {},
   "cell_type": "markdown",
   "metadata": {},
   "source": [
    "# Genre 데이터 처리"
   ]
  },
  {
   "cell_type": "code",
   "execution_count": 30,
   "metadata": {},
   "outputs": [
    {
     "data": {
      "text/html": [
       "<div>\n",
       "<style scoped>\n",
       "    .dataframe tbody tr th:only-of-type {\n",
       "        vertical-align: middle;\n",
       "    }\n",
       "\n",
       "    .dataframe tbody tr th {\n",
       "        vertical-align: top;\n",
       "    }\n",
       "\n",
       "    .dataframe thead th {\n",
       "        text-align: right;\n",
       "    }\n",
       "</style>\n",
       "<table border=\"1\" class=\"dataframe\">\n",
       "  <thead>\n",
       "    <tr style=\"text-align: right;\">\n",
       "      <th></th>\n",
       "      <th>item</th>\n",
       "      <th>genre</th>\n",
       "    </tr>\n",
       "  </thead>\n",
       "  <tbody>\n",
       "    <tr>\n",
       "      <th>0</th>\n",
       "      <td>318</td>\n",
       "      <td>Crime</td>\n",
       "    </tr>\n",
       "    <tr>\n",
       "      <th>1</th>\n",
       "      <td>318</td>\n",
       "      <td>Drama</td>\n",
       "    </tr>\n",
       "    <tr>\n",
       "      <th>2</th>\n",
       "      <td>2571</td>\n",
       "      <td>Action</td>\n",
       "    </tr>\n",
       "    <tr>\n",
       "      <th>3</th>\n",
       "      <td>2571</td>\n",
       "      <td>Sci-Fi</td>\n",
       "    </tr>\n",
       "    <tr>\n",
       "      <th>4</th>\n",
       "      <td>2571</td>\n",
       "      <td>Thriller</td>\n",
       "    </tr>\n",
       "    <tr>\n",
       "      <th>...</th>\n",
       "      <td>...</td>\n",
       "      <td>...</td>\n",
       "    </tr>\n",
       "    <tr>\n",
       "      <th>15928</th>\n",
       "      <td>109850</td>\n",
       "      <td>Drama</td>\n",
       "    </tr>\n",
       "    <tr>\n",
       "      <th>15929</th>\n",
       "      <td>8605</td>\n",
       "      <td>Action</td>\n",
       "    </tr>\n",
       "    <tr>\n",
       "      <th>15930</th>\n",
       "      <td>8605</td>\n",
       "      <td>Comedy</td>\n",
       "    </tr>\n",
       "    <tr>\n",
       "      <th>15931</th>\n",
       "      <td>3689</td>\n",
       "      <td>Comedy</td>\n",
       "    </tr>\n",
       "    <tr>\n",
       "      <th>15932</th>\n",
       "      <td>8130</td>\n",
       "      <td>Documentary</td>\n",
       "    </tr>\n",
       "  </tbody>\n",
       "</table>\n",
       "<p>15933 rows × 2 columns</p>\n",
       "</div>"
      ],
      "text/plain": [
       "         item        genre\n",
       "0         318        Crime\n",
       "1         318        Drama\n",
       "2        2571       Action\n",
       "3        2571       Sci-Fi\n",
       "4        2571     Thriller\n",
       "...       ...          ...\n",
       "15928  109850        Drama\n",
       "15929    8605       Action\n",
       "15930    8605       Comedy\n",
       "15931    3689       Comedy\n",
       "15932    8130  Documentary\n",
       "\n",
       "[15933 rows x 2 columns]"
      ]
     },
     "execution_count": 30,
     "metadata": {},
     "output_type": "execute_result"
    }
   ],
   "source": [
    "#한 아이템에 여러 장르가 하나씩 분포.\n",
    "genre_data"
   ]
  },
  {
   "cell_type": "code",
   "execution_count": 31,
   "metadata": {},
   "outputs": [
    {
     "data": {
      "text/plain": [
       "item     6807\n",
       "genre      18\n",
       "dtype: int64"
      ]
     },
     "execution_count": 31,
     "metadata": {},
     "output_type": "execute_result"
    }
   ],
   "source": [
    "#아이템 고유 개수는 같으므로 장르를 한번에 넣어주면 됨 -> 원 핫 인코딩 사용도 가능. (전체 장르의 종류가 18개 이므로)\n",
    "genre_data.nunique()"
   ]
  },
  {
   "cell_type": "code",
   "execution_count": 32,
   "metadata": {},
   "outputs": [
    {
     "data": {
      "text/plain": [
       "genre\n",
       "Action         1246\n",
       "Adventure       891\n",
       "Animation       355\n",
       "Children        432\n",
       "Comedy         2408\n",
       "Crime           924\n",
       "Documentary     323\n",
       "Drama          3490\n",
       "Fantasy         557\n",
       "Film-Noir        97\n",
       "Horror          602\n",
       "Musical         282\n",
       "Mystery         471\n",
       "Romance        1251\n",
       "Sci-Fi          653\n",
       "Thriller       1466\n",
       "War             346\n",
       "Western         139\n",
       "Name: item, dtype: int64"
      ]
     },
     "execution_count": 32,
     "metadata": {},
     "output_type": "execute_result"
    }
   ],
   "source": [
    "genre_data.groupby('genre')['item'].count()"
   ]
  },
  {
   "cell_type": "code",
   "execution_count": 33,
   "metadata": {},
   "outputs": [
    {
     "data": {
      "image/png": "[encoded data removed]",
      "text/plain": [
       "<Figure size 432x288 with 1 Axes>"
      ]
     },
     "metadata": {
      "needs_background": "light"
     },
     "output_type": "display_data"
    }
   ],
   "source": [
    "#들쑥날쑥한 분포.\n",
    "a=genre_data.groupby('genre')['item'].count().index\n",
    "b=genre_data.groupby('genre')['item'].count().values\n",
    "\n",
    "plt.bar(a,b)\n",
    "plt.show()"
   ]
  },
  {
   "attachments": {},
   "cell_type": "markdown",
   "metadata": {},
   "source": [
    "# Director 데이터 처리."
   ]
  },
  {
   "cell_type": "code",
   "execution_count": 34,
   "metadata": {},
   "outputs": [
    {
     "data": {
      "text/html": [
       "<div>\n",
       "<style scoped>\n",
       "    .dataframe tbody tr th:only-of-type {\n",
       "        vertical-align: middle;\n",
       "    }\n",
       "\n",
       "    .dataframe tbody tr th {\n",
       "        vertical-align: top;\n",
       "    }\n",
       "\n",
       "    .dataframe thead th {\n",
       "        text-align: right;\n",
       "    }\n",
       "</style>\n",
       "<table border=\"1\" class=\"dataframe\">\n",
       "  <thead>\n",
       "    <tr style=\"text-align: right;\">\n",
       "      <th></th>\n",
       "      <th>item</th>\n",
       "      <th>director</th>\n",
       "    </tr>\n",
       "  </thead>\n",
       "  <tbody>\n",
       "    <tr>\n",
       "      <th>0</th>\n",
       "      <td>1237</td>\n",
       "      <td>nm0000005</td>\n",
       "    </tr>\n",
       "    <tr>\n",
       "      <th>1</th>\n",
       "      <td>5147</td>\n",
       "      <td>nm0000005</td>\n",
       "    </tr>\n",
       "    <tr>\n",
       "      <th>2</th>\n",
       "      <td>7327</td>\n",
       "      <td>nm0000005</td>\n",
       "    </tr>\n",
       "    <tr>\n",
       "      <th>3</th>\n",
       "      <td>2068</td>\n",
       "      <td>nm0000005</td>\n",
       "    </tr>\n",
       "    <tr>\n",
       "      <th>4</th>\n",
       "      <td>7396</td>\n",
       "      <td>nm0000005</td>\n",
       "    </tr>\n",
       "    <tr>\n",
       "      <th>...</th>\n",
       "      <td>...</td>\n",
       "      <td>...</td>\n",
       "    </tr>\n",
       "    <tr>\n",
       "      <th>5900</th>\n",
       "      <td>84273</td>\n",
       "      <td>nm2879822</td>\n",
       "    </tr>\n",
       "    <tr>\n",
       "      <th>5901</th>\n",
       "      <td>58376</td>\n",
       "      <td>nm2879822</td>\n",
       "    </tr>\n",
       "    <tr>\n",
       "      <th>5902</th>\n",
       "      <td>65225</td>\n",
       "      <td>nm2879822</td>\n",
       "    </tr>\n",
       "    <tr>\n",
       "      <th>5903</th>\n",
       "      <td>2394</td>\n",
       "      <td>nm9054338</td>\n",
       "    </tr>\n",
       "    <tr>\n",
       "      <th>5904</th>\n",
       "      <td>55768</td>\n",
       "      <td>nm9054338</td>\n",
       "    </tr>\n",
       "  </tbody>\n",
       "</table>\n",
       "<p>5905 rows × 2 columns</p>\n",
       "</div>"
      ],
      "text/plain": [
       "       item   director\n",
       "0      1237  nm0000005\n",
       "1      5147  nm0000005\n",
       "2      7327  nm0000005\n",
       "3      2068  nm0000005\n",
       "4      7396  nm0000005\n",
       "...     ...        ...\n",
       "5900  84273  nm2879822\n",
       "5901  58376  nm2879822\n",
       "5902  65225  nm2879822\n",
       "5903   2394  nm9054338\n",
       "5904  55768  nm9054338\n",
       "\n",
       "[5905 rows x 2 columns]"
      ]
     },
     "execution_count": 34,
     "metadata": {},
     "output_type": "execute_result"
    }
   ],
   "source": [
    "director_data"
   ]
  },
  {
   "cell_type": "code",
   "execution_count": 35,
   "metadata": {},
   "outputs": [
    {
     "data": {
      "text/plain": [
       "item        5503\n",
       "director    1340\n",
       "dtype: int64"
      ]
     },
     "execution_count": 35,
     "metadata": {},
     "output_type": "execute_result"
    }
   ],
   "source": [
    "#merge시 데이터 결측치를 채워야함.\n",
    "director_data.nunique()"
   ]
  },
  {
   "cell_type": "code",
   "execution_count": 36,
   "metadata": {},
   "outputs": [
    {
     "data": {
      "text/plain": [
       "director\n",
       "nm0000005    19\n",
       "nm0000019     9\n",
       "nm0000033    33\n",
       "nm0000036     8\n",
       "nm0000037     4\n",
       "             ..\n",
       "nm2588606     3\n",
       "nm2648685     2\n",
       "nm2676052     2\n",
       "nm2879822     3\n",
       "nm9054338     2\n",
       "Name: item, Length: 1340, dtype: int64"
      ]
     },
     "execution_count": 36,
     "metadata": {},
     "output_type": "execute_result"
    }
   ],
   "source": [
    "director_data.groupby('director')['item'].count()"
   ]
  },
  {
   "cell_type": "code",
   "execution_count": 37,
   "metadata": {},
   "outputs": [
    {
     "data": {
      "text/plain": [
       "count    1340.000000\n",
       "mean        4.406716\n",
       "std         3.633030\n",
       "min         2.000000\n",
       "25%         2.000000\n",
       "50%         3.000000\n",
       "75%         5.000000\n",
       "max        44.000000\n",
       "Name: item, dtype: float64"
      ]
     },
     "execution_count": 37,
     "metadata": {},
     "output_type": "execute_result"
    }
   ],
   "source": [
    "#정보 획득 가능\n",
    "director_data.groupby('director')['item'].count().describe()"
   ]
  },
  {
   "cell_type": "code",
   "execution_count": 38,
   "metadata": {},
   "outputs": [
    {
     "data": {
      "image/png": "[encoded data removed]",
      "text/plain": [
       "<Figure size 432x288 with 1 Axes>"
      ]
     },
     "metadata": {
      "needs_background": "light"
     },
     "output_type": "display_data"
    }
   ],
   "source": [
    "a=np.arange(len(director_data.groupby('director')['item'].count()))\n",
    "b=director_data.groupby('director')['item'].count().values\n",
    "\n",
    "plt.bar(a,b)\n",
    "plt.show()"
   ]
  },
  {
   "cell_type": "code",
   "execution_count": 39,
   "metadata": {},
   "outputs": [
    {
     "data": {
      "text/plain": [
       "44"
      ]
     },
     "execution_count": 39,
     "metadata": {},
     "output_type": "execute_result"
    }
   ],
   "source": [
    "# max값 44가 그래프 상에 안보임 -> 그래프 오류인지 데이터 오류인지 확인.\n",
    "director_data.groupby('director')['item'].count().values.max()"
   ]
  },
  {
   "cell_type": "code",
   "execution_count": 40,
   "metadata": {},
   "outputs": [
    {
     "data": {
      "text/html": [
       "<div>\n",
       "<style scoped>\n",
       "    .dataframe tbody tr th:only-of-type {\n",
       "        vertical-align: middle;\n",
       "    }\n",
       "\n",
       "    .dataframe tbody tr th {\n",
       "        vertical-align: top;\n",
       "    }\n",
       "\n",
       "    .dataframe thead th {\n",
       "        text-align: right;\n",
       "    }\n",
       "</style>\n",
       "<table border=\"1\" class=\"dataframe\">\n",
       "  <thead>\n",
       "    <tr style=\"text-align: right;\">\n",
       "      <th></th>\n",
       "      <th>director</th>\n",
       "      <th>item</th>\n",
       "    </tr>\n",
       "  </thead>\n",
       "  <tbody>\n",
       "    <tr>\n",
       "      <th>12</th>\n",
       "      <td>nm0000095</td>\n",
       "      <td>44</td>\n",
       "    </tr>\n",
       "  </tbody>\n",
       "</table>\n",
       "</div>"
      ],
      "text/plain": [
       "     director  item\n",
       "12  nm0000095    44"
      ]
     },
     "execution_count": 40,
     "metadata": {},
     "output_type": "execute_result"
    }
   ],
   "source": [
    "temp = director_data.groupby('director')['item'].count().reset_index()\n",
    "temp[temp['item']==44]"
   ]
  },
  {
   "cell_type": "code",
   "execution_count": 41,
   "metadata": {},
   "outputs": [
    {
     "data": {
      "text/plain": [
       "director\n",
       "nm0000005    19\n",
       "nm0000019     9\n",
       "nm0000033    33\n",
       "nm0000036     8\n",
       "nm0000037     4\n",
       "nm0000040    12\n",
       "nm0000041    19\n",
       "nm0000045     2\n",
       "nm0000059     3\n",
       "nm0000076     9\n",
       "nm0000078     2\n",
       "nm0000080    10\n",
       "nm0000095    44\n",
       "nm0000108     8\n",
       "nm0000110     9\n",
       "nm0000114     3\n",
       "nm0000116     7\n",
       "nm0000118    17\n",
       "nm0000122     9\n",
       "nm0000123     4\n",
       "Name: item, dtype: int64"
      ]
     },
     "execution_count": 41,
     "metadata": {},
     "output_type": "execute_result"
    }
   ],
   "source": [
    "# 44존재.\n",
    "director_data.groupby('director')['item'].count().head(20)"
   ]
  },
  {
   "cell_type": "code",
   "execution_count": 42,
   "metadata": {},
   "outputs": [
    {
     "data": {
      "image/png": "[encoded data removed]",
      "text/plain": [
       "<Figure size 432x288 with 1 Axes>"
      ]
     },
     "metadata": {
      "needs_background": "light"
     },
     "output_type": "display_data"
    }
   ],
   "source": [
    "#그래프 x축 범위 줄였더니 44 확인됨 -> 그래프 오류\n",
    "a=np.arange(len(director_data.groupby('director')['item'].count().head(20)))\n",
    "b=director_data.groupby('director')['item'].count().head(20).values\n",
    "\n",
    "plt.bar(a,b)\n",
    "plt.show()"
   ]
  },
  {
   "cell_type": "code",
   "execution_count": 60,
   "metadata": {},
   "outputs": [
    {
     "ename": "MemoryError",
     "evalue": "Unable to allocate 24.0 GiB for an array with shape (11, 293430019) and data type object",
     "output_type": "error",
     "traceback": [
      "\u001b[0;31m---------------------------------------------------------------------------\u001b[0m",
      "\u001b[0;31mMemoryError\u001b[0m                               Traceback (most recent call last)",
      "\u001b[1;32m/opt/ml/input/code/EDA.ipynb 셀 51\u001b[0m in \u001b[0;36m<cell line: 3>\u001b[0;34m()\u001b[0m\n\u001b[1;32m      <a href='vscode-notebook-cell://ssh-remote%2B49.50.163.187/opt/ml/input/code/EDA.ipynb#Y102sdnNjb2RlLXJlbW90ZQ%3D%3D?line=0'>1</a>\u001b[0m train_df \u001b[39m=\u001b[39m pd\u001b[39m.\u001b[39mmerge(train_df,year_data, on\u001b[39m=\u001b[39m\u001b[39m'\u001b[39m\u001b[39mitem\u001b[39m\u001b[39m'\u001b[39m, how\u001b[39m=\u001b[39m\u001b[39m'\u001b[39m\u001b[39mleft\u001b[39m\u001b[39m'\u001b[39m)\n\u001b[1;32m      <a href='vscode-notebook-cell://ssh-remote%2B49.50.163.187/opt/ml/input/code/EDA.ipynb#Y102sdnNjb2RlLXJlbW90ZQ%3D%3D?line=1'>2</a>\u001b[0m train_df \u001b[39m=\u001b[39m pd\u001b[39m.\u001b[39mmerge(train_df,writer_data, on\u001b[39m=\u001b[39m\u001b[39m'\u001b[39m\u001b[39mitem\u001b[39m\u001b[39m'\u001b[39m, how\u001b[39m=\u001b[39m\u001b[39m'\u001b[39m\u001b[39mleft\u001b[39m\u001b[39m'\u001b[39m)\n\u001b[0;32m----> <a href='vscode-notebook-cell://ssh-remote%2B49.50.163.187/opt/ml/input/code/EDA.ipynb#Y102sdnNjb2RlLXJlbW90ZQ%3D%3D?line=2'>3</a>\u001b[0m train_df \u001b[39m=\u001b[39m pd\u001b[39m.\u001b[39;49mmerge(train_df,title_data, on\u001b[39m=\u001b[39;49m\u001b[39m'\u001b[39;49m\u001b[39mitem\u001b[39;49m\u001b[39m'\u001b[39;49m, how\u001b[39m=\u001b[39;49m\u001b[39m'\u001b[39;49m\u001b[39mleft\u001b[39;49m\u001b[39m'\u001b[39;49m)\n\u001b[1;32m      <a href='vscode-notebook-cell://ssh-remote%2B49.50.163.187/opt/ml/input/code/EDA.ipynb#Y102sdnNjb2RlLXJlbW90ZQ%3D%3D?line=3'>4</a>\u001b[0m train_df \u001b[39m=\u001b[39m pd\u001b[39m.\u001b[39mmerge(train_df,genre_data, on\u001b[39m=\u001b[39m\u001b[39m'\u001b[39m\u001b[39mitem\u001b[39m\u001b[39m'\u001b[39m, how\u001b[39m=\u001b[39m\u001b[39m'\u001b[39m\u001b[39mleft\u001b[39m\u001b[39m'\u001b[39m)\n\u001b[1;32m      <a href='vscode-notebook-cell://ssh-remote%2B49.50.163.187/opt/ml/input/code/EDA.ipynb#Y102sdnNjb2RlLXJlbW90ZQ%3D%3D?line=4'>5</a>\u001b[0m train_df \u001b[39m=\u001b[39m pd\u001b[39m.\u001b[39mmerge(train_df,director_data, on\u001b[39m=\u001b[39m\u001b[39m'\u001b[39m\u001b[39mitem\u001b[39m\u001b[39m'\u001b[39m, how\u001b[39m=\u001b[39m\u001b[39m'\u001b[39m\u001b[39mleft\u001b[39m\u001b[39m'\u001b[39m)\n",
      "File \u001b[0;32m/opt/conda/lib/python3.8/site-packages/pandas/core/reshape/merge.py:122\u001b[0m, in \u001b[0;36mmerge\u001b[0;34m(left, right, how, on, left_on, right_on, left_index, right_index, sort, suffixes, copy, indicator, validate)\u001b[0m\n\u001b[1;32m     90\u001b[0m \u001b[39m@Substitution\u001b[39m(\u001b[39m\"\u001b[39m\u001b[39m\\n\u001b[39;00m\u001b[39mleft : DataFrame or named Series\u001b[39m\u001b[39m\"\u001b[39m)\n\u001b[1;32m     91\u001b[0m \u001b[39m@Appender\u001b[39m(_merge_doc, indents\u001b[39m=\u001b[39m\u001b[39m0\u001b[39m)\n\u001b[1;32m     92\u001b[0m \u001b[39mdef\u001b[39;00m \u001b[39mmerge\u001b[39m(\n\u001b[0;32m   (...)\u001b[0m\n\u001b[1;32m    105\u001b[0m     validate: \u001b[39mstr\u001b[39m \u001b[39m|\u001b[39m \u001b[39mNone\u001b[39;00m \u001b[39m=\u001b[39m \u001b[39mNone\u001b[39;00m,\n\u001b[1;32m    106\u001b[0m ) \u001b[39m-\u001b[39m\u001b[39m>\u001b[39m DataFrame:\n\u001b[1;32m    107\u001b[0m     op \u001b[39m=\u001b[39m _MergeOperation(\n\u001b[1;32m    108\u001b[0m         left,\n\u001b[1;32m    109\u001b[0m         right,\n\u001b[0;32m   (...)\u001b[0m\n\u001b[1;32m    120\u001b[0m         validate\u001b[39m=\u001b[39mvalidate,\n\u001b[1;32m    121\u001b[0m     )\n\u001b[0;32m--> 122\u001b[0m     \u001b[39mreturn\u001b[39;00m op\u001b[39m.\u001b[39;49mget_result()\n",
      "File \u001b[0;32m/opt/conda/lib/python3.8/site-packages/pandas/core/reshape/merge.py:725\u001b[0m, in \u001b[0;36m_MergeOperation.get_result\u001b[0;34m(self)\u001b[0m\n\u001b[1;32m    722\u001b[0m lindexers \u001b[39m=\u001b[39m {\u001b[39m1\u001b[39m: left_indexer} \u001b[39mif\u001b[39;00m left_indexer \u001b[39mis\u001b[39;00m \u001b[39mnot\u001b[39;00m \u001b[39mNone\u001b[39;00m \u001b[39melse\u001b[39;00m {}\n\u001b[1;32m    723\u001b[0m rindexers \u001b[39m=\u001b[39m {\u001b[39m1\u001b[39m: right_indexer} \u001b[39mif\u001b[39;00m right_indexer \u001b[39mis\u001b[39;00m \u001b[39mnot\u001b[39;00m \u001b[39mNone\u001b[39;00m \u001b[39melse\u001b[39;00m {}\n\u001b[0;32m--> 725\u001b[0m result_data \u001b[39m=\u001b[39m concatenate_managers(\n\u001b[1;32m    726\u001b[0m     [(\u001b[39mself\u001b[39;49m\u001b[39m.\u001b[39;49mleft\u001b[39m.\u001b[39;49m_mgr, lindexers), (\u001b[39mself\u001b[39;49m\u001b[39m.\u001b[39;49mright\u001b[39m.\u001b[39;49m_mgr, rindexers)],\n\u001b[1;32m    727\u001b[0m     axes\u001b[39m=\u001b[39;49m[llabels\u001b[39m.\u001b[39;49mappend(rlabels), join_index],\n\u001b[1;32m    728\u001b[0m     concat_axis\u001b[39m=\u001b[39;49m\u001b[39m0\u001b[39;49m,\n\u001b[1;32m    729\u001b[0m     copy\u001b[39m=\u001b[39;49m\u001b[39mself\u001b[39;49m\u001b[39m.\u001b[39;49mcopy,\n\u001b[1;32m    730\u001b[0m )\n\u001b[1;32m    732\u001b[0m typ \u001b[39m=\u001b[39m \u001b[39mself\u001b[39m\u001b[39m.\u001b[39mleft\u001b[39m.\u001b[39m_constructor\n\u001b[1;32m    733\u001b[0m result \u001b[39m=\u001b[39m typ(result_data)\u001b[39m.\u001b[39m__finalize__(\u001b[39mself\u001b[39m, method\u001b[39m=\u001b[39m\u001b[39mself\u001b[39m\u001b[39m.\u001b[39m_merge_type)\n",
      "File \u001b[0;32m/opt/conda/lib/python3.8/site-packages/pandas/core/internals/concat.py:202\u001b[0m, in \u001b[0;36mconcatenate_managers\u001b[0;34m(mgrs_indexers, axes, concat_axis, copy)\u001b[0m\n\u001b[1;32m    195\u001b[0m \u001b[39m# Assertions disabled for performance\u001b[39;00m\n\u001b[1;32m    196\u001b[0m \u001b[39m# for tup in mgrs_indexers:\u001b[39;00m\n\u001b[1;32m    197\u001b[0m \u001b[39m#    # caller is responsible for ensuring this\u001b[39;00m\n\u001b[1;32m    198\u001b[0m \u001b[39m#    indexers = tup[1]\u001b[39;00m\n\u001b[1;32m    199\u001b[0m \u001b[39m#    assert concat_axis not in indexers\u001b[39;00m\n\u001b[1;32m    201\u001b[0m \u001b[39mif\u001b[39;00m concat_axis \u001b[39m==\u001b[39m \u001b[39m0\u001b[39m:\n\u001b[0;32m--> 202\u001b[0m     \u001b[39mreturn\u001b[39;00m _concat_managers_axis0(mgrs_indexers, axes, copy)\n\u001b[1;32m    204\u001b[0m mgrs_indexers \u001b[39m=\u001b[39m _maybe_reindex_columns_na_proxy(axes, mgrs_indexers)\n\u001b[1;32m    206\u001b[0m \u001b[39m# Assertion disabled for performance\u001b[39;00m\n\u001b[1;32m    207\u001b[0m \u001b[39m# assert all(not x[1] for x in mgrs_indexers)\u001b[39;00m\n",
      "File \u001b[0;32m/opt/conda/lib/python3.8/site-packages/pandas/core/internals/concat.py:264\u001b[0m, in \u001b[0;36m_concat_managers_axis0\u001b[0;34m(mgrs_indexers, axes, copy)\u001b[0m\n\u001b[1;32m    257\u001b[0m \u001b[39m\"\"\"\u001b[39;00m\n\u001b[1;32m    258\u001b[0m \u001b[39mconcat_managers specialized to concat_axis=0, with reindexing already\u001b[39;00m\n\u001b[1;32m    259\u001b[0m \u001b[39mhaving been done in _maybe_reindex_columns_na_proxy.\u001b[39;00m\n\u001b[1;32m    260\u001b[0m \u001b[39m\"\"\"\u001b[39;00m\n\u001b[1;32m    261\u001b[0m had_reindexers \u001b[39m=\u001b[39m {\n\u001b[1;32m    262\u001b[0m     i: \u001b[39mlen\u001b[39m(mgrs_indexers[i][\u001b[39m1\u001b[39m]) \u001b[39m>\u001b[39m \u001b[39m0\u001b[39m \u001b[39mfor\u001b[39;00m i \u001b[39min\u001b[39;00m \u001b[39mrange\u001b[39m(\u001b[39mlen\u001b[39m(mgrs_indexers))\n\u001b[1;32m    263\u001b[0m }\n\u001b[0;32m--> 264\u001b[0m mgrs_indexers \u001b[39m=\u001b[39m _maybe_reindex_columns_na_proxy(axes, mgrs_indexers)\n\u001b[1;32m    266\u001b[0m mgrs \u001b[39m=\u001b[39m [x[\u001b[39m0\u001b[39m] \u001b[39mfor\u001b[39;00m x \u001b[39min\u001b[39;00m mgrs_indexers]\n\u001b[1;32m    268\u001b[0m offset \u001b[39m=\u001b[39m \u001b[39m0\u001b[39m\n",
      "File \u001b[0;32m/opt/conda/lib/python3.8/site-packages/pandas/core/internals/concat.py:306\u001b[0m, in \u001b[0;36m_maybe_reindex_columns_na_proxy\u001b[0;34m(axes, mgrs_indexers)\u001b[0m\n\u001b[1;32m    302\u001b[0m \u001b[39mfor\u001b[39;00m mgr, indexers \u001b[39min\u001b[39;00m mgrs_indexers:\n\u001b[1;32m    303\u001b[0m     \u001b[39m# For axis=0 (i.e. columns) we use_na_proxy and only_slice, so this\u001b[39;00m\n\u001b[1;32m    304\u001b[0m     \u001b[39m#  is a cheap reindexing.\u001b[39;00m\n\u001b[1;32m    305\u001b[0m     \u001b[39mfor\u001b[39;00m i, indexer \u001b[39min\u001b[39;00m indexers\u001b[39m.\u001b[39mitems():\n\u001b[0;32m--> 306\u001b[0m         mgr \u001b[39m=\u001b[39m mgr\u001b[39m.\u001b[39;49mreindex_indexer(\n\u001b[1;32m    307\u001b[0m             axes[i],\n\u001b[1;32m    308\u001b[0m             indexers[i],\n\u001b[1;32m    309\u001b[0m             axis\u001b[39m=\u001b[39;49mi,\n\u001b[1;32m    310\u001b[0m             copy\u001b[39m=\u001b[39;49m\u001b[39mFalse\u001b[39;49;00m,\n\u001b[1;32m    311\u001b[0m             only_slice\u001b[39m=\u001b[39;49m\u001b[39mTrue\u001b[39;49;00m,  \u001b[39m# only relevant for i==0\u001b[39;49;00m\n\u001b[1;32m    312\u001b[0m             allow_dups\u001b[39m=\u001b[39;49m\u001b[39mTrue\u001b[39;49;00m,\n\u001b[1;32m    313\u001b[0m             use_na_proxy\u001b[39m=\u001b[39;49m\u001b[39mTrue\u001b[39;49;00m,  \u001b[39m# only relevant for i==0\u001b[39;49;00m\n\u001b[1;32m    314\u001b[0m         )\n\u001b[1;32m    315\u001b[0m     new_mgrs_indexers\u001b[39m.\u001b[39mappend((mgr, {}))\n\u001b[1;32m    317\u001b[0m \u001b[39mreturn\u001b[39;00m new_mgrs_indexers\n",
      "File \u001b[0;32m/opt/conda/lib/python3.8/site-packages/pandas/core/internals/managers.py:675\u001b[0m, in \u001b[0;36mBaseBlockManager.reindex_indexer\u001b[0;34m(self, new_axis, indexer, axis, fill_value, allow_dups, copy, consolidate, only_slice, use_na_proxy)\u001b[0m\n\u001b[1;32m    672\u001b[0m     \u001b[39mreturn\u001b[39;00m result\n\u001b[1;32m    674\u001b[0m \u001b[39mif\u001b[39;00m consolidate:\n\u001b[0;32m--> 675\u001b[0m     \u001b[39mself\u001b[39;49m\u001b[39m.\u001b[39;49m_consolidate_inplace()\n\u001b[1;32m    677\u001b[0m \u001b[39m# some axes don't allow reindexing with dups\u001b[39;00m\n\u001b[1;32m    678\u001b[0m \u001b[39mif\u001b[39;00m \u001b[39mnot\u001b[39;00m allow_dups:\n",
      "File \u001b[0;32m/opt/conda/lib/python3.8/site-packages/pandas/core/internals/managers.py:1685\u001b[0m, in \u001b[0;36mBlockManager._consolidate_inplace\u001b[0;34m(self)\u001b[0m\n\u001b[1;32m   1683\u001b[0m \u001b[39mdef\u001b[39;00m \u001b[39m_consolidate_inplace\u001b[39m(\u001b[39mself\u001b[39m) \u001b[39m-\u001b[39m\u001b[39m>\u001b[39m \u001b[39mNone\u001b[39;00m:\n\u001b[1;32m   1684\u001b[0m     \u001b[39mif\u001b[39;00m \u001b[39mnot\u001b[39;00m \u001b[39mself\u001b[39m\u001b[39m.\u001b[39mis_consolidated():\n\u001b[0;32m-> 1685\u001b[0m         \u001b[39mself\u001b[39m\u001b[39m.\u001b[39mblocks \u001b[39m=\u001b[39m \u001b[39mtuple\u001b[39m(_consolidate(\u001b[39mself\u001b[39;49m\u001b[39m.\u001b[39;49mblocks))\n\u001b[1;32m   1686\u001b[0m         \u001b[39mself\u001b[39m\u001b[39m.\u001b[39m_is_consolidated \u001b[39m=\u001b[39m \u001b[39mTrue\u001b[39;00m\n\u001b[1;32m   1687\u001b[0m         \u001b[39mself\u001b[39m\u001b[39m.\u001b[39m_known_consolidated \u001b[39m=\u001b[39m \u001b[39mTrue\u001b[39;00m\n",
      "File \u001b[0;32m/opt/conda/lib/python3.8/site-packages/pandas/core/internals/managers.py:2084\u001b[0m, in \u001b[0;36m_consolidate\u001b[0;34m(blocks)\u001b[0m\n\u001b[1;32m   2082\u001b[0m new_blocks: \u001b[39mlist\u001b[39m[Block] \u001b[39m=\u001b[39m []\n\u001b[1;32m   2083\u001b[0m \u001b[39mfor\u001b[39;00m (_can_consolidate, dtype), group_blocks \u001b[39min\u001b[39;00m grouper:\n\u001b[0;32m-> 2084\u001b[0m     merged_blocks \u001b[39m=\u001b[39m _merge_blocks(\n\u001b[1;32m   2085\u001b[0m         \u001b[39mlist\u001b[39;49m(group_blocks), dtype\u001b[39m=\u001b[39;49mdtype, can_consolidate\u001b[39m=\u001b[39;49m_can_consolidate\n\u001b[1;32m   2086\u001b[0m     )\n\u001b[1;32m   2087\u001b[0m     new_blocks \u001b[39m=\u001b[39m extend_blocks(merged_blocks, new_blocks)\n\u001b[1;32m   2088\u001b[0m \u001b[39mreturn\u001b[39;00m new_blocks\n",
      "File \u001b[0;32m/opt/conda/lib/python3.8/site-packages/pandas/core/internals/managers.py:2118\u001b[0m, in \u001b[0;36m_merge_blocks\u001b[0;34m(blocks, dtype, can_consolidate)\u001b[0m\n\u001b[1;32m   2115\u001b[0m     new_values \u001b[39m=\u001b[39m bvals2[\u001b[39m0\u001b[39m]\u001b[39m.\u001b[39m_concat_same_type(bvals2, axis\u001b[39m=\u001b[39m\u001b[39m0\u001b[39m)\n\u001b[1;32m   2117\u001b[0m argsort \u001b[39m=\u001b[39m np\u001b[39m.\u001b[39margsort(new_mgr_locs)\n\u001b[0;32m-> 2118\u001b[0m new_values \u001b[39m=\u001b[39m new_values[argsort]\n\u001b[1;32m   2119\u001b[0m new_mgr_locs \u001b[39m=\u001b[39m new_mgr_locs[argsort]\n\u001b[1;32m   2121\u001b[0m bp \u001b[39m=\u001b[39m BlockPlacement(new_mgr_locs)\n",
      "\u001b[0;31mMemoryError\u001b[0m: Unable to allocate 24.0 GiB for an array with shape (11, 293430019) and data type object"
     ]
    }
   ],
   "source": [
    "train_df = pd.merge(train_df,year_data, on='item', how='left')\n",
    "train_df = pd.merge(train_df,writer_data, on='item', how='left')\n",
    "train_df = pd.merge(train_df,title_data, on='item', how='left')\n",
    "train_df = pd.merge(train_df,genre_data, on='item', how='left')\n",
    "train_df = pd.merge(train_df,director_data, on='item', how='left')\n",
    "train_df"
   ]
  },
  {
   "cell_type": "code",
   "execution_count": 58,
   "metadata": {},
   "outputs": [
    {
     "data": {
      "text/html": [
       "<div>\n",
       "<style scoped>\n",
       "    .dataframe tbody tr th:only-of-type {\n",
       "        vertical-align: middle;\n",
       "    }\n",
       "\n",
       "    .dataframe tbody tr th {\n",
       "        vertical-align: top;\n",
       "    }\n",
       "\n",
       "    .dataframe thead th {\n",
       "        text-align: right;\n",
       "    }\n",
       "</style>\n",
       "<table border=\"1\" class=\"dataframe\">\n",
       "  <thead>\n",
       "    <tr style=\"text-align: right;\">\n",
       "      <th></th>\n",
       "      <th>user</th>\n",
       "      <th>item</th>\n",
       "      <th>year_x</th>\n",
       "      <th>month</th>\n",
       "      <th>day</th>\n",
       "      <th>hour</th>\n",
       "      <th>minute</th>\n",
       "      <th>second</th>\n",
       "      <th>year_y</th>\n",
       "      <th>writer</th>\n",
       "      <th>title</th>\n",
       "      <th>genre</th>\n",
       "      <th>director</th>\n",
       "    </tr>\n",
       "  </thead>\n",
       "  <tbody>\n",
       "    <tr>\n",
       "      <th>1416</th>\n",
       "      <td>11</td>\n",
       "      <td>34048</td>\n",
       "      <td>2009</td>\n",
       "      <td>01</td>\n",
       "      <td>01</td>\n",
       "      <td>05</td>\n",
       "      <td>41</td>\n",
       "      <td>29</td>\n",
       "      <td>2005.0</td>\n",
       "      <td>nm0295264</td>\n",
       "      <td>War of the Worlds (2005)</td>\n",
       "      <td>Action</td>\n",
       "      <td>nm0000229</td>\n",
       "    </tr>\n",
       "    <tr>\n",
       "      <th>1417</th>\n",
       "      <td>11</td>\n",
       "      <td>34048</td>\n",
       "      <td>2009</td>\n",
       "      <td>01</td>\n",
       "      <td>01</td>\n",
       "      <td>05</td>\n",
       "      <td>41</td>\n",
       "      <td>29</td>\n",
       "      <td>2005.0</td>\n",
       "      <td>nm0295264</td>\n",
       "      <td>War of the Worlds (2005)</td>\n",
       "      <td>Adventure</td>\n",
       "      <td>nm0000229</td>\n",
       "    </tr>\n",
       "    <tr>\n",
       "      <th>1418</th>\n",
       "      <td>11</td>\n",
       "      <td>34048</td>\n",
       "      <td>2009</td>\n",
       "      <td>01</td>\n",
       "      <td>01</td>\n",
       "      <td>05</td>\n",
       "      <td>41</td>\n",
       "      <td>29</td>\n",
       "      <td>2005.0</td>\n",
       "      <td>nm0295264</td>\n",
       "      <td>War of the Worlds (2005)</td>\n",
       "      <td>Sci-Fi</td>\n",
       "      <td>nm0000229</td>\n",
       "    </tr>\n",
       "    <tr>\n",
       "      <th>1419</th>\n",
       "      <td>11</td>\n",
       "      <td>34048</td>\n",
       "      <td>2009</td>\n",
       "      <td>01</td>\n",
       "      <td>01</td>\n",
       "      <td>05</td>\n",
       "      <td>41</td>\n",
       "      <td>29</td>\n",
       "      <td>2005.0</td>\n",
       "      <td>nm0295264</td>\n",
       "      <td>War of the Worlds (2005)</td>\n",
       "      <td>Thriller</td>\n",
       "      <td>nm0000229</td>\n",
       "    </tr>\n",
       "    <tr>\n",
       "      <th>1420</th>\n",
       "      <td>11</td>\n",
       "      <td>34048</td>\n",
       "      <td>2009</td>\n",
       "      <td>01</td>\n",
       "      <td>01</td>\n",
       "      <td>05</td>\n",
       "      <td>41</td>\n",
       "      <td>29</td>\n",
       "      <td>2005.0</td>\n",
       "      <td>nm0462895</td>\n",
       "      <td>War of the Worlds (2005)</td>\n",
       "      <td>Action</td>\n",
       "      <td>nm0000229</td>\n",
       "    </tr>\n",
       "    <tr>\n",
       "      <th>...</th>\n",
       "      <td>...</td>\n",
       "      <td>...</td>\n",
       "      <td>...</td>\n",
       "      <td>...</td>\n",
       "      <td>...</td>\n",
       "      <td>...</td>\n",
       "      <td>...</td>\n",
       "      <td>...</td>\n",
       "      <td>...</td>\n",
       "      <td>...</td>\n",
       "      <td>...</td>\n",
       "      <td>...</td>\n",
       "      <td>...</td>\n",
       "    </tr>\n",
       "    <tr>\n",
       "      <th>48264240</th>\n",
       "      <td>138493</td>\n",
       "      <td>34048</td>\n",
       "      <td>2009</td>\n",
       "      <td>11</td>\n",
       "      <td>16</td>\n",
       "      <td>16</td>\n",
       "      <td>59</td>\n",
       "      <td>18</td>\n",
       "      <td>2005.0</td>\n",
       "      <td>nm0462895</td>\n",
       "      <td>War of the Worlds (2005)</td>\n",
       "      <td>Thriller</td>\n",
       "      <td>nm0000229</td>\n",
       "    </tr>\n",
       "    <tr>\n",
       "      <th>48264241</th>\n",
       "      <td>138493</td>\n",
       "      <td>34048</td>\n",
       "      <td>2009</td>\n",
       "      <td>11</td>\n",
       "      <td>16</td>\n",
       "      <td>16</td>\n",
       "      <td>59</td>\n",
       "      <td>18</td>\n",
       "      <td>2005.0</td>\n",
       "      <td>nm0920229</td>\n",
       "      <td>War of the Worlds (2005)</td>\n",
       "      <td>Action</td>\n",
       "      <td>nm0000229</td>\n",
       "    </tr>\n",
       "    <tr>\n",
       "      <th>48264242</th>\n",
       "      <td>138493</td>\n",
       "      <td>34048</td>\n",
       "      <td>2009</td>\n",
       "      <td>11</td>\n",
       "      <td>16</td>\n",
       "      <td>16</td>\n",
       "      <td>59</td>\n",
       "      <td>18</td>\n",
       "      <td>2005.0</td>\n",
       "      <td>nm0920229</td>\n",
       "      <td>War of the Worlds (2005)</td>\n",
       "      <td>Adventure</td>\n",
       "      <td>nm0000229</td>\n",
       "    </tr>\n",
       "    <tr>\n",
       "      <th>48264243</th>\n",
       "      <td>138493</td>\n",
       "      <td>34048</td>\n",
       "      <td>2009</td>\n",
       "      <td>11</td>\n",
       "      <td>16</td>\n",
       "      <td>16</td>\n",
       "      <td>59</td>\n",
       "      <td>18</td>\n",
       "      <td>2005.0</td>\n",
       "      <td>nm0920229</td>\n",
       "      <td>War of the Worlds (2005)</td>\n",
       "      <td>Sci-Fi</td>\n",
       "      <td>nm0000229</td>\n",
       "    </tr>\n",
       "    <tr>\n",
       "      <th>48264244</th>\n",
       "      <td>138493</td>\n",
       "      <td>34048</td>\n",
       "      <td>2009</td>\n",
       "      <td>11</td>\n",
       "      <td>16</td>\n",
       "      <td>16</td>\n",
       "      <td>59</td>\n",
       "      <td>18</td>\n",
       "      <td>2005.0</td>\n",
       "      <td>nm0920229</td>\n",
       "      <td>War of the Worlds (2005)</td>\n",
       "      <td>Thriller</td>\n",
       "      <td>nm0000229</td>\n",
       "    </tr>\n",
       "  </tbody>\n",
       "</table>\n",
       "<p>36620 rows × 13 columns</p>\n",
       "</div>"
      ],
      "text/plain": [
       "            user   item year_x month day hour minute second  year_y  \\\n",
       "1416          11  34048   2009    01  01   05     41     29  2005.0   \n",
       "1417          11  34048   2009    01  01   05     41     29  2005.0   \n",
       "1418          11  34048   2009    01  01   05     41     29  2005.0   \n",
       "1419          11  34048   2009    01  01   05     41     29  2005.0   \n",
       "1420          11  34048   2009    01  01   05     41     29  2005.0   \n",
       "...          ...    ...    ...   ...  ..  ...    ...    ...     ...   \n",
       "48264240  138493  34048   2009    11  16   16     59     18  2005.0   \n",
       "48264241  138493  34048   2009    11  16   16     59     18  2005.0   \n",
       "48264242  138493  34048   2009    11  16   16     59     18  2005.0   \n",
       "48264243  138493  34048   2009    11  16   16     59     18  2005.0   \n",
       "48264244  138493  34048   2009    11  16   16     59     18  2005.0   \n",
       "\n",
       "             writer                     title      genre   director  \n",
       "1416      nm0295264  War of the Worlds (2005)     Action  nm0000229  \n",
       "1417      nm0295264  War of the Worlds (2005)  Adventure  nm0000229  \n",
       "1418      nm0295264  War of the Worlds (2005)     Sci-Fi  nm0000229  \n",
       "1419      nm0295264  War of the Worlds (2005)   Thriller  nm0000229  \n",
       "1420      nm0462895  War of the Worlds (2005)     Action  nm0000229  \n",
       "...             ...                       ...        ...        ...  \n",
       "48264240  nm0462895  War of the Worlds (2005)   Thriller  nm0000229  \n",
       "48264241  nm0920229  War of the Worlds (2005)     Action  nm0000229  \n",
       "48264242  nm0920229  War of the Worlds (2005)  Adventure  nm0000229  \n",
       "48264243  nm0920229  War of the Worlds (2005)     Sci-Fi  nm0000229  \n",
       "48264244  nm0920229  War of the Worlds (2005)   Thriller  nm0000229  \n",
       "\n",
       "[36620 rows x 13 columns]"
      ]
     },
     "execution_count": 58,
     "metadata": {},
     "output_type": "execute_result"
    }
   ],
   "source": [
    "train_df[train_df['item']==34048]"
   ]
  },
  {
   "cell_type": "code",
   "execution_count": 59,
   "metadata": {},
   "outputs": [
    {
     "data": {
      "text/html": [
       "<div>\n",
       "<style scoped>\n",
       "    .dataframe tbody tr th:only-of-type {\n",
       "        vertical-align: middle;\n",
       "    }\n",
       "\n",
       "    .dataframe tbody tr th {\n",
       "        vertical-align: top;\n",
       "    }\n",
       "\n",
       "    .dataframe thead th {\n",
       "        text-align: right;\n",
       "    }\n",
       "</style>\n",
       "<table border=\"1\" class=\"dataframe\">\n",
       "  <thead>\n",
       "    <tr style=\"text-align: right;\">\n",
       "      <th></th>\n",
       "      <th>user</th>\n",
       "      <th>item</th>\n",
       "      <th>year_x</th>\n",
       "      <th>month</th>\n",
       "      <th>day</th>\n",
       "      <th>hour</th>\n",
       "      <th>minute</th>\n",
       "      <th>second</th>\n",
       "      <th>year_y</th>\n",
       "      <th>writer</th>\n",
       "      <th>title</th>\n",
       "      <th>genre</th>\n",
       "      <th>director</th>\n",
       "    </tr>\n",
       "  </thead>\n",
       "  <tbody>\n",
       "  </tbody>\n",
       "</table>\n",
       "</div>"
      ],
      "text/plain": [
       "Empty DataFrame\n",
       "Columns: [user, item, year_x, month, day, hour, minute, second, year_y, writer, title, genre, director]\n",
       "Index: []"
      ]
     },
     "execution_count": 59,
     "metadata": {},
     "output_type": "execute_result"
    }
   ],
   "source": [
    "train_df[train_df['item']==64997]"
   ]
  },
  {
   "cell_type": "code",
   "execution_count": 56,
   "metadata": {},
   "outputs": [],
   "source": [
    "train_df.loc[train_df[train_df['item']==64997].index,'item']=34048"
   ]
  },
  {
   "cell_type": "code",
   "execution_count": 57,
   "metadata": {},
   "outputs": [
    {
     "data": {
      "text/html": [
       "<div>\n",
       "<style scoped>\n",
       "    .dataframe tbody tr th:only-of-type {\n",
       "        vertical-align: middle;\n",
       "    }\n",
       "\n",
       "    .dataframe tbody tr th {\n",
       "        vertical-align: top;\n",
       "    }\n",
       "\n",
       "    .dataframe thead th {\n",
       "        text-align: right;\n",
       "    }\n",
       "</style>\n",
       "<table border=\"1\" class=\"dataframe\">\n",
       "  <thead>\n",
       "    <tr style=\"text-align: right;\">\n",
       "      <th></th>\n",
       "      <th>user</th>\n",
       "      <th>item</th>\n",
       "      <th>year_x</th>\n",
       "      <th>month</th>\n",
       "      <th>day</th>\n",
       "      <th>hour</th>\n",
       "      <th>minute</th>\n",
       "      <th>second</th>\n",
       "      <th>year_y</th>\n",
       "      <th>writer</th>\n",
       "      <th>title</th>\n",
       "      <th>genre</th>\n",
       "      <th>director</th>\n",
       "    </tr>\n",
       "  </thead>\n",
       "  <tbody>\n",
       "  </tbody>\n",
       "</table>\n",
       "</div>"
      ],
      "text/plain": [
       "Empty DataFrame\n",
       "Columns: [user, item, year_x, month, day, hour, minute, second, year_y, writer, title, genre, director]\n",
       "Index: []"
      ]
     },
     "execution_count": 57,
     "metadata": {},
     "output_type": "execute_result"
    }
   ],
   "source": [
    "train_df[train_df['item']==64997]"
   ]
  },
  {
   "cell_type": "code",
   "execution_count": null,
   "metadata": {},
   "outputs": [],
   "source": []
  }
 ],
 "metadata": {
  "kernelspec": {
   "display_name": "base",
   "language": "python",
   "name": "python3"
  },
  "language_info": {
   "codemirror_mode": {
    "name": "ipython",
    "version": 3
   },
   "file_extension": ".py",
   "mimetype": "text/x-python",
   "name": "python",
   "nbconvert_exporter": "python",
   "pygments_lexer": "ipython3",
   "version": "3.8.5"
  },
  "orig_nbformat": 4
 },
 "nbformat": 4,
 "nbformat_minor": 2
}
