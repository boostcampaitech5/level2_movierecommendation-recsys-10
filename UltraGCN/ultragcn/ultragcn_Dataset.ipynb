{
 "cells": [
  {
   "cell_type": "code",
   "execution_count": 1,
   "metadata": {},
   "outputs": [],
   "source": [
    "import pandas as pd\n",
    "import numpy as np\n",
    "import os"
   ]
  },
  {
   "cell_type": "code",
   "execution_count": 2,
   "metadata": {},
   "outputs": [],
   "source": [
    "data_path = '/opt/ml/input/data/train'\n",
    "df = pd.read_csv(os.path.join(data_path, 'train_ratings.csv')) # 전체 학습 데이터"
   ]
  },
  {
   "cell_type": "code",
   "execution_count": 3,
   "metadata": {},
   "outputs": [
    {
     "data": {
      "text/html": [
       "<div>\n",
       "<style scoped>\n",
       "    .dataframe tbody tr th:only-of-type {\n",
       "        vertical-align: middle;\n",
       "    }\n",
       "\n",
       "    .dataframe tbody tr th {\n",
       "        vertical-align: top;\n",
       "    }\n",
       "\n",
       "    .dataframe thead th {\n",
       "        text-align: right;\n",
       "    }\n",
       "</style>\n",
       "<table border=\"1\" class=\"dataframe\">\n",
       "  <thead>\n",
       "    <tr style=\"text-align: right;\">\n",
       "      <th></th>\n",
       "      <th>user</th>\n",
       "      <th>item</th>\n",
       "      <th>time</th>\n",
       "    </tr>\n",
       "  </thead>\n",
       "  <tbody>\n",
       "    <tr>\n",
       "      <th>0</th>\n",
       "      <td>11</td>\n",
       "      <td>4643</td>\n",
       "      <td>1230782529</td>\n",
       "    </tr>\n",
       "    <tr>\n",
       "      <th>1</th>\n",
       "      <td>11</td>\n",
       "      <td>170</td>\n",
       "      <td>1230782534</td>\n",
       "    </tr>\n",
       "    <tr>\n",
       "      <th>2</th>\n",
       "      <td>11</td>\n",
       "      <td>531</td>\n",
       "      <td>1230782539</td>\n",
       "    </tr>\n",
       "    <tr>\n",
       "      <th>3</th>\n",
       "      <td>11</td>\n",
       "      <td>616</td>\n",
       "      <td>1230782542</td>\n",
       "    </tr>\n",
       "    <tr>\n",
       "      <th>4</th>\n",
       "      <td>11</td>\n",
       "      <td>2140</td>\n",
       "      <td>1230782563</td>\n",
       "    </tr>\n",
       "    <tr>\n",
       "      <th>...</th>\n",
       "      <td>...</td>\n",
       "      <td>...</td>\n",
       "      <td>...</td>\n",
       "    </tr>\n",
       "    <tr>\n",
       "      <th>5154466</th>\n",
       "      <td>138493</td>\n",
       "      <td>44022</td>\n",
       "      <td>1260209449</td>\n",
       "    </tr>\n",
       "    <tr>\n",
       "      <th>5154467</th>\n",
       "      <td>138493</td>\n",
       "      <td>4958</td>\n",
       "      <td>1260209482</td>\n",
       "    </tr>\n",
       "    <tr>\n",
       "      <th>5154468</th>\n",
       "      <td>138493</td>\n",
       "      <td>68319</td>\n",
       "      <td>1260209720</td>\n",
       "    </tr>\n",
       "    <tr>\n",
       "      <th>5154469</th>\n",
       "      <td>138493</td>\n",
       "      <td>40819</td>\n",
       "      <td>1260209726</td>\n",
       "    </tr>\n",
       "    <tr>\n",
       "      <th>5154470</th>\n",
       "      <td>138493</td>\n",
       "      <td>27311</td>\n",
       "      <td>1260209807</td>\n",
       "    </tr>\n",
       "  </tbody>\n",
       "</table>\n",
       "<p>5154471 rows × 3 columns</p>\n",
       "</div>"
      ],
      "text/plain": [
       "           user   item        time\n",
       "0            11   4643  1230782529\n",
       "1            11    170  1230782534\n",
       "2            11    531  1230782539\n",
       "3            11    616  1230782542\n",
       "4            11   2140  1230782563\n",
       "...         ...    ...         ...\n",
       "5154466  138493  44022  1260209449\n",
       "5154467  138493   4958  1260209482\n",
       "5154468  138493  68319  1260209720\n",
       "5154469  138493  40819  1260209726\n",
       "5154470  138493  27311  1260209807\n",
       "\n",
       "[5154471 rows x 3 columns]"
      ]
     },
     "execution_count": 3,
     "metadata": {},
     "output_type": "execute_result"
    }
   ],
   "source": [
    "df"
   ]
  },
  {
   "cell_type": "code",
   "execution_count": 4,
   "metadata": {},
   "outputs": [
    {
     "data": {
      "text/plain": [
       "user\n",
       "11        376\n",
       "14        180\n",
       "18         77\n",
       "25         91\n",
       "31        154\n",
       "         ... \n",
       "138473     63\n",
       "138475    124\n",
       "138486    137\n",
       "138492     68\n",
       "138493    314\n",
       "Name: item, Length: 31360, dtype: int64"
      ]
     },
     "execution_count": 4,
     "metadata": {},
     "output_type": "execute_result"
    }
   ],
   "source": [
    "df.groupby('user')['item'].count()"
   ]
  },
  {
   "cell_type": "code",
   "execution_count": 5,
   "metadata": {},
   "outputs": [
    {
     "name": "stdout",
     "output_type": "stream",
     "text": [
      "기존 df의 user 최대 값: 138493\n",
      "기존 df의 item 최대 값: 119145\n",
      "user의 고유 수: 31360\n",
      "item의 고유 수: 6807\n"
     ]
    }
   ],
   "source": [
    "print(f\"기존 df의 user 최대 값: {df['user'].max()}\")\n",
    "print(f\"기존 df의 item 최대 값: {df['item'].max()}\")\n",
    "print(f\"user의 고유 수: {df['user'].nunique()}\")\n",
    "print(f\"item의 고유 수: {df['item'].nunique()}\")\n",
    "\n",
    "#나중에 메모리 문제가 발생하지 않기 위해 범위를 줄임."
   ]
  },
  {
   "cell_type": "code",
   "execution_count": 6,
   "metadata": {},
   "outputs": [
    {
     "data": {
      "text/html": [
       "<div>\n",
       "<style scoped>\n",
       "    .dataframe tbody tr th:only-of-type {\n",
       "        vertical-align: middle;\n",
       "    }\n",
       "\n",
       "    .dataframe tbody tr th {\n",
       "        vertical-align: top;\n",
       "    }\n",
       "\n",
       "    .dataframe thead th {\n",
       "        text-align: right;\n",
       "    }\n",
       "</style>\n",
       "<table border=\"1\" class=\"dataframe\">\n",
       "  <thead>\n",
       "    <tr style=\"text-align: right;\">\n",
       "      <th></th>\n",
       "      <th>user</th>\n",
       "      <th>item</th>\n",
       "      <th>time</th>\n",
       "    </tr>\n",
       "  </thead>\n",
       "  <tbody>\n",
       "    <tr>\n",
       "      <th>0</th>\n",
       "      <td>0</td>\n",
       "      <td>2505</td>\n",
       "      <td>1230782529</td>\n",
       "    </tr>\n",
       "    <tr>\n",
       "      <th>1</th>\n",
       "      <td>0</td>\n",
       "      <td>109</td>\n",
       "      <td>1230782534</td>\n",
       "    </tr>\n",
       "    <tr>\n",
       "      <th>2</th>\n",
       "      <td>0</td>\n",
       "      <td>319</td>\n",
       "      <td>1230782539</td>\n",
       "    </tr>\n",
       "    <tr>\n",
       "      <th>3</th>\n",
       "      <td>0</td>\n",
       "      <td>368</td>\n",
       "      <td>1230782542</td>\n",
       "    </tr>\n",
       "    <tr>\n",
       "      <th>4</th>\n",
       "      <td>0</td>\n",
       "      <td>1183</td>\n",
       "      <td>1230782563</td>\n",
       "    </tr>\n",
       "    <tr>\n",
       "      <th>...</th>\n",
       "      <td>...</td>\n",
       "      <td>...</td>\n",
       "      <td>...</td>\n",
       "    </tr>\n",
       "    <tr>\n",
       "      <th>5154466</th>\n",
       "      <td>31359</td>\n",
       "      <td>4882</td>\n",
       "      <td>1260209449</td>\n",
       "    </tr>\n",
       "    <tr>\n",
       "      <th>5154467</th>\n",
       "      <td>31359</td>\n",
       "      <td>2652</td>\n",
       "      <td>1260209482</td>\n",
       "    </tr>\n",
       "    <tr>\n",
       "      <th>5154468</th>\n",
       "      <td>31359</td>\n",
       "      <td>5768</td>\n",
       "      <td>1260209720</td>\n",
       "    </tr>\n",
       "    <tr>\n",
       "      <th>5154469</th>\n",
       "      <td>31359</td>\n",
       "      <td>4791</td>\n",
       "      <td>1260209726</td>\n",
       "    </tr>\n",
       "    <tr>\n",
       "      <th>5154470</th>\n",
       "      <td>31359</td>\n",
       "      <td>4363</td>\n",
       "      <td>1260209807</td>\n",
       "    </tr>\n",
       "  </tbody>\n",
       "</table>\n",
       "<p>5154471 rows × 3 columns</p>\n",
       "</div>"
      ],
      "text/plain": [
       "          user  item        time\n",
       "0            0  2505  1230782529\n",
       "1            0   109  1230782534\n",
       "2            0   319  1230782539\n",
       "3            0   368  1230782542\n",
       "4            0  1183  1230782563\n",
       "...        ...   ...         ...\n",
       "5154466  31359  4882  1260209449\n",
       "5154467  31359  2652  1260209482\n",
       "5154468  31359  5768  1260209720\n",
       "5154469  31359  4791  1260209726\n",
       "5154470  31359  4363  1260209807\n",
       "\n",
       "[5154471 rows x 3 columns]"
      ]
     },
     "execution_count": 6,
     "metadata": {},
     "output_type": "execute_result"
    }
   ],
   "source": [
    "from sklearn.preprocessing import LabelEncoder\n",
    "\n",
    "user_LE = LabelEncoder()\n",
    "item_LE = LabelEncoder()\n",
    "\n",
    "df['user'] = user_LE.fit_transform(list(df['user'].values))\n",
    "df['item'] = item_LE.fit_transform(list(df['item'].values))\n",
    "\n",
    "df"
   ]
  },
  {
   "cell_type": "code",
   "execution_count": 37,
   "metadata": {},
   "outputs": [],
   "source": [
    "f = open('/opt/ml/input/code/ultragcn/data/Movielens_boostcamp/ultragcn_train_data.txt', 'w')\n",
    "tf = open('/opt/ml/input/code/ultragcn/data/Movielens_boostcamp/ultragcn_test_data.txt', 'w')\n",
    "for i,v in df.groupby('user')['item']:\n",
    "    f.write(str(i))\n",
    "    f.write(' ')\n",
    "    f.write(' '.join(str(e) for e in v.values[:(len(v.values)//10)*9]))\n",
    "    f.write('\\n')\n",
    "    tf.write(str(i))\n",
    "    tf.write(' ')\n",
    "    tf.write(' '.join(str(e) for e in v.values[(len(v.values)//10)*9:]))\n",
    "    tf.write('\\n')\n",
    "f.close()\n",
    "tf.close()"
   ]
  },
  {
   "cell_type": "code",
   "execution_count": 1,
   "metadata": {},
   "outputs": [
    {
     "data": {
      "text/plain": [
       "30.751953125"
      ]
     },
     "execution_count": 1,
     "metadata": {},
     "output_type": "execute_result"
    }
   ],
   "source": [
    "31490/1024"
   ]
  },
  {
   "cell_type": "code",
   "execution_count": 49,
   "metadata": {},
   "outputs": [],
   "source": [
    "f = open('/opt/ml/input/code/ultragcn/result(epoch:67).txt','r')\n",
    "answer_list = []\n",
    "\n",
    "for i in f:\n",
    "    a = i.split('tensor')\n",
    "    for j in a:\n",
    "        if(j != ''):\n",
    "            answer_list.append(j)\n",
    "\n",
    "for i in range(len(answer_list)):\n",
    "    answer_list[i] = eval(answer_list[i].replace(' ', '').replace('(', '').replace(')', ''))\n",
    "\n",
    "\n",
    "\n",
    "answer_list = np.array(answer_list).reshape(-1, ) #1차원으로 쭉 피기 (squeeze 사용해도 됨)\n",
    "user_list = [i // 10 for i in range(len(answer_list))]\n",
    "\n",
    "\n",
    "\n"
   ]
  },
  {
   "cell_type": "code",
   "execution_count": 58,
   "metadata": {},
   "outputs": [],
   "source": [
    "end_df = pd.DataFrame({'user':user_list,\n",
    "                       'item':answer_list}) \n",
    "end_df['user'] = user_LE.inverse_transform(end_df['user'])\n",
    "end_df['item'] = item_LE.inverse_transform(end_df['item'])\n",
    "\n",
    "end_df.to_csv('submit_ultragcn.csv',index=False)\n"
   ]
  },
  {
   "cell_type": "code",
   "execution_count": null,
   "metadata": {},
   "outputs": [],
   "source": []
  }
 ],
 "metadata": {
  "kernelspec": {
   "display_name": "base",
   "language": "python",
   "name": "python3"
  },
  "language_info": {
   "codemirror_mode": {
    "name": "ipython",
    "version": 3
   },
   "file_extension": ".py",
   "mimetype": "text/x-python",
   "name": "python",
   "nbconvert_exporter": "python",
   "pygments_lexer": "ipython3",
   "version": "3.8.5"
  },
  "orig_nbformat": 4
 },
 "nbformat": 4,
 "nbformat_minor": 2
}
